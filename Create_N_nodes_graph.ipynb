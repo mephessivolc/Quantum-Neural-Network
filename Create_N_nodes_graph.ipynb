{
 "cells": [
  {
   "cell_type": "markdown",
   "id": "61f736a3",
   "metadata": {},
   "source": [
    "# Construção de grafos\n",
    "\n",
    "Código irá construir todos os grafos de N vértices e seu número cromático"
   ]
  },
  {
   "cell_type": "code",
   "execution_count": 2,
   "id": "9290e93a-0f9a-4d6c-b758-d41cbf701a2d",
   "metadata": {},
   "outputs": [
    {
     "name": "stdout",
     "output_type": "stream",
     "text": [
      "Collecting networkx[default]\n",
      "  Downloading networkx-3.2.1-py3-none-any.whl.metadata (5.2 kB)\n",
      "Requirement already satisfied: numpy>=1.22 in /usr/local/lib/python3.12/site-packages (from networkx[default]) (1.26.4)\n",
      "Requirement already satisfied: scipy!=1.11.0,!=1.11.1,>=1.9 in /usr/local/lib/python3.12/site-packages (from networkx[default]) (1.12.0)\n",
      "Requirement already satisfied: matplotlib>=3.5 in /usr/local/lib/python3.12/site-packages (from networkx[default]) (3.8.3)\n",
      "Requirement already satisfied: pandas>=1.4 in /usr/local/lib/python3.12/site-packages (from networkx[default]) (2.2.1)\n",
      "Requirement already satisfied: contourpy>=1.0.1 in /usr/local/lib/python3.12/site-packages (from matplotlib>=3.5->networkx[default]) (1.2.0)\n",
      "Requirement already satisfied: cycler>=0.10 in /usr/local/lib/python3.12/site-packages (from matplotlib>=3.5->networkx[default]) (0.12.1)\n",
      "Requirement already satisfied: fonttools>=4.22.0 in /usr/local/lib/python3.12/site-packages (from matplotlib>=3.5->networkx[default]) (4.49.0)\n",
      "Requirement already satisfied: kiwisolver>=1.3.1 in /usr/local/lib/python3.12/site-packages (from matplotlib>=3.5->networkx[default]) (1.4.5)\n",
      "Requirement already satisfied: packaging>=20.0 in /usr/local/lib/python3.12/site-packages (from matplotlib>=3.5->networkx[default]) (23.2)\n",
      "Requirement already satisfied: pillow>=8 in /usr/local/lib/python3.12/site-packages (from matplotlib>=3.5->networkx[default]) (10.2.0)\n",
      "Requirement already satisfied: pyparsing>=2.3.1 in /usr/local/lib/python3.12/site-packages (from matplotlib>=3.5->networkx[default]) (3.1.1)\n",
      "Requirement already satisfied: python-dateutil>=2.7 in /usr/local/lib/python3.12/site-packages (from matplotlib>=3.5->networkx[default]) (2.9.0.post0)\n",
      "Requirement already satisfied: pytz>=2020.1 in /usr/local/lib/python3.12/site-packages (from pandas>=1.4->networkx[default]) (2024.1)\n",
      "Requirement already satisfied: tzdata>=2022.7 in /usr/local/lib/python3.12/site-packages (from pandas>=1.4->networkx[default]) (2024.1)\n",
      "Requirement already satisfied: six>=1.5 in /usr/local/lib/python3.12/site-packages (from python-dateutil>=2.7->matplotlib>=3.5->networkx[default]) (1.16.0)\n",
      "Downloading networkx-3.2.1-py3-none-any.whl (1.6 MB)\n",
      "\u001b[2K   \u001b[90m━━━━━━━━━━━━━━━━━━━━━━━━━━━━━━━━━━━━━━━━\u001b[0m \u001b[32m1.6/1.6 MB\u001b[0m \u001b[31m835.2 kB/s\u001b[0m eta \u001b[36m0:00:00\u001b[0m00:01\u001b[0m00:01\u001b[0m\n",
      "\u001b[?25hInstalling collected packages: networkx\n",
      "Successfully installed networkx-3.2.1\n",
      "\u001b[33mWARNING: Running pip as the 'root' user can result in broken permissions and conflicting behaviour with the system package manager. It is recommended to use a virtual environment instead: https://pip.pypa.io/warnings/venv\u001b[0m\u001b[33m\n",
      "\u001b[0m"
     ]
    }
   ],
   "source": [
    "!pip install networkx[default]"
   ]
  },
  {
   "cell_type": "code",
   "execution_count": 3,
   "id": "7e0d1bb1",
   "metadata": {},
   "outputs": [],
   "source": [
    "from pathlib import Path\n",
    "import networkx as nx\n",
    "import itertools\n",
    "import random\n",
    "import time\n",
    "random.seed(time.time())"
   ]
  },
  {
   "cell_type": "code",
   "execution_count": 4,
   "id": "dfcdbd3e",
   "metadata": {},
   "outputs": [],
   "source": [
    "def gen_edges(n):\n",
    "    return itertools.chain.from_iterable(\n",
    "        itertools.combinations(itertools.combinations(range(n), 2), i)\n",
    "        for i in range(n+1))"
   ]
  },
  {
   "cell_type": "code",
   "execution_count": 5,
   "id": "716683ee",
   "metadata": {},
   "outputs": [],
   "source": [
    "def graphs(n):\n",
    "    for edges in gen_edges(n):\n",
    "        g = nx.Graph()\n",
    "        g.add_nodes_from(range(n))\n",
    "        g.add_edges_from(edges)\n",
    "        yield g\n"
   ]
  },
  {
   "cell_type": "code",
   "execution_count": 6,
   "id": "5b18ed6f",
   "metadata": {},
   "outputs": [],
   "source": [
    "def chrome(g):\n",
    "    return len(set(nx.coloring.greedy_color(g).values()))"
   ]
  },
  {
   "cell_type": "code",
   "execution_count": 7,
   "id": "3b632708",
   "metadata": {
    "scrolled": true
   },
   "outputs": [],
   "source": [
    "\n",
    "def write_graph(g, file_name):\n",
    "    print('TYPE : TSP',\n",
    "          f'DIMENSION: {g.number_of_nodes()}',\n",
    "          'EDGE_DATA_FORMAT: EDGE_LIST',\n",
    "          'EDGE_WEIGHT_TYPE: EXPLICIT',\n",
    "          'EDGE_WEIGHT_FORMAT: FULL_MATRIX',\n",
    "          'EDGE_DATA_SECTION',\n",
    "          sep='\\n',\n",
    "          file=file_name)\n",
    "    for e in g.edges():\n",
    "        print(*e, file=file_name)\n",
    "    print(-1, file=file_name)\n",
    "    print('EDGE_WEIGHT_SECTION',\n",
    "          file=file_name)\n",
    "    for i in range(g.number_of_nodes()):\n",
    "        print(*([0.0]*g.number_of_nodes()),\n",
    "              sep='\\t', file=file_name)\n",
    "    print('DIFF_EDGE',\n",
    "          '0 0',\n",
    "          'CHROM_NUMBER',\n",
    "          chrome(g),\n",
    "          'EOF',\n",
    "          sep='\\n',\n",
    "          file=file_name)"
   ]
  },
  {
   "cell_type": "markdown",
   "id": "4ddf4a3b",
   "metadata": {},
   "source": [
    "Qantidade N de Vértices a serem considerados"
   ]
  },
  {
   "cell_type": "code",
   "execution_count": 14,
   "id": "1ae1bcfb",
   "metadata": {},
   "outputs": [],
   "source": [
    "N = 7 # quantidade de vertices\n",
    "\n",
    "qtd_training = 582 # quantidade de amostras para treinamento\n",
    "qtd_testing = 180 # quantidade de amostras para teste\n",
    "\n",
    "# referencia para os arquivos dos dados de cada grafo \n",
    "# salvando em um diretorio\n",
    "file_name_origin = \"m10.graph\"\n",
    "dir_training_name = f\"qrnn-training-{N}\"\n",
    "dir_testing_name = f\"qrnn-testing-{N}\""
   ]
  },
  {
   "cell_type": "markdown",
   "id": "504e5f31",
   "metadata": {},
   "source": [
    "Construção dos grafos"
   ]
  },
  {
   "cell_type": "code",
   "execution_count": 15,
   "id": "2a0aba9c",
   "metadata": {},
   "outputs": [],
   "source": [
    "file_training_name = Path(dir_training_name).resolve()\n",
    "file_training_name.mkdir(parents=True, exist_ok=True)\n",
    "\n",
    "file_testing_name = Path(dir_testing_name).resolve()\n",
    "file_testing_name.mkdir(parents=True, exist_ok=True)\n",
    "\n",
    "cont_training = 0 \n",
    "cont_testing = 0\n",
    "for i,g in enumerate(graphs(N),1):\n",
    "    if random.random() > 0.6 and cont_training < qtd_training:\n",
    "        file_path = file_training_name / f\"m{i}.graph\"\n",
    "        file_path.touch(exist_ok=True)\n",
    "        cont_training = cont_training + 1\n",
    "        with open(file_path, \"w\") as f:\n",
    "            write_graph(g,f)\n",
    "    if random.random() > 0.8 and cont_testing < qtd_testing:\n",
    "        file_path = file_testing_name / f\"m{i}.graph\"\n",
    "        file_path.touch(exist_ok=True)\n",
    "        cont_testing = cont_testing + 1\n",
    "        with open(file_path, \"w\") as f:\n",
    "            write_graph(g,f)"
   ]
  },
  {
   "cell_type": "code",
   "execution_count": null,
   "id": "3e7496e6",
   "metadata": {},
   "outputs": [],
   "source": []
  }
 ],
 "metadata": {
  "kernelspec": {
   "display_name": "Python 3 (ipykernel)",
   "language": "python",
   "name": "python3"
  },
  "language_info": {
   "codemirror_mode": {
    "name": "ipython",
    "version": 3
   },
   "file_extension": ".py",
   "mimetype": "text/x-python",
   "name": "python",
   "nbconvert_exporter": "python",
   "pygments_lexer": "ipython3",
   "version": "3.12.1"
  }
 },
 "nbformat": 4,
 "nbformat_minor": 5
}
