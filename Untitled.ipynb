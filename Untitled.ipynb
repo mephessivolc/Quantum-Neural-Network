{
 "cells": [
  {
   "cell_type": "code",
   "execution_count": 1,
   "id": "35747e2d-c041-47fe-974e-789df67ad276",
   "metadata": {},
   "outputs": [],
   "source": [
    "import qiskit"
   ]
  },
  {
   "cell_type": "code",
   "execution_count": 28,
   "id": "e420fc49-8afa-41a7-bdb6-28f5eba2b78b",
   "metadata": {},
   "outputs": [
    {
     "name": "stdout",
     "output_type": "stream",
     "text": [
      "State vectors u, v, and w have been defined.\n"
     ]
    }
   ],
   "source": [
    "from qiskit.quantum_info import Statevector\n",
    "from numpy import sqrt, pi\n",
    "\n",
    "u = Statevector([1 / sqrt(2), 1 / sqrt(2)])\n",
    "v = Statevector([(1 + 2.0j) / 3, -2 / 3])\n",
    "w = Statevector([1 / 3, 2 / 3])\n",
    "\n",
    "print(\"State vectors u, v, and w have been defined.\")"
   ]
  },
  {
   "cell_type": "code",
   "execution_count": 3,
   "id": "9b78165b-6163-4042-9d60-ddbe3a0e2f45",
   "metadata": {},
   "outputs": [
    {
     "data": {
      "text/latex": [
       "$$\\frac{\\sqrt{2}}{2} |0\\rangle+\\frac{\\sqrt{2}}{2} |1\\rangle$$"
      ],
      "text/plain": [
       "<IPython.core.display.Latex object>"
      ]
     },
     "metadata": {},
     "output_type": "display_data"
    },
    {
     "data": {
      "text/plain": [
       "[ 0.33333333+0.66666667j,-0.66666667+0.j        ]"
      ]
     },
     "metadata": {},
     "output_type": "display_data"
    }
   ],
   "source": [
    "display(u.draw(\"latex\"))\n",
    "display(v.draw(\"text\"))"
   ]
  },
  {
   "cell_type": "code",
   "execution_count": 4,
   "id": "1fa6a015-f49a-4e94-8df7-6550018592b8",
   "metadata": {},
   "outputs": [],
   "source": [
    "from qiskit import QuantumCircuit, QuantumRegister, ClassicalRegister\n",
    "from qiskit.primitives import Sampler\n",
    "from qiskit.visualization import plot_histogram"
   ]
  },
  {
   "cell_type": "code",
   "execution_count": 34,
   "id": "4e82bb4e-506d-488c-9d12-073869d4bd3e",
   "metadata": {},
   "outputs": [
    {
     "data": {
      "image/png": "[encoded data removed]",
      "text/plain": [
       "<Figure size 657.998x284.278 with 1 Axes>"
      ]
     },
     "metadata": {},
     "output_type": "display_data"
    }
   ],
   "source": [
    "qReg = QuantumRegister(2)\n",
    "cReg = ClassicalRegister(2)\n",
    "circuit = QuantumCircuit(qReg, cReg)\n",
    "\n",
    "circuit.cx(0,1)\n",
    "circuit.h(0)\n",
    "circuit.s(0)\n",
    "circuit.h(0)\n",
    "circuit.t(0)\n",
    "circuit.ry(pi, 1)\n",
    "\n",
    "circuit.measure(qReg[0], cReg[0])\n",
    "circuit.measure(qReg[1], cReg[1])\n",
    "display(circuit.draw('mpl'))"
   ]
  },
  {
   "cell_type": "code",
   "execution_count": 14,
   "id": "64bf3779-0bcc-4207-815a-57c23426af2d",
   "metadata": {},
   "outputs": [
    {
     "name": "stdout",
     "output_type": "stream",
     "text": [
      "45\n"
     ]
    }
   ],
   "source": [
    "def binary2int(bstring: str):\n",
    "    if not isinstance(bstring, str):\n",
    "        bstring = str(bstring)\n",
    "    return int(bstring, 2)\n",
    "\n",
    "print(binary2int(\"101101\"))"
   ]
  },
  {
   "cell_type": "code",
   "execution_count": 15,
   "id": "7208744d-afd3-4d8f-8820-2ba4fdd59cfd",
   "metadata": {},
   "outputs": [],
   "source": [
    "from qiskit_aer import AerSimulator"
   ]
  },
  {
   "cell_type": "code",
   "execution_count": 43,
   "id": "fc84983a-a4a8-40a4-b867-1ee86d3a5476",
   "metadata": {},
   "outputs": [
    {
     "name": "stdout",
     "output_type": "stream",
     "text": [
      "10\n",
      "{'10': 4907, '11': 5093}\n"
     ]
    }
   ],
   "source": [
    "results = AerSimulator().run(circuit, shots=1E4, memory=True).result()\n",
    "stats = results.get_counts()\n",
    "\n",
    "print(list(stats.keys())[0])\n",
    "print(stats)"
   ]
  },
  {
   "cell_type": "code",
   "execution_count": 37,
   "id": "e84434ca-6c3d-429a-907d-d2cae2b0ed08",
   "metadata": {},
   "outputs": [
    {
     "data": {
      "text/plain": [
       "dict_keys(['10', '11'])"
      ]
     },
     "execution_count": 37,
     "metadata": {},
     "output_type": "execute_result"
    }
   ],
   "source": [
    "stats.keys()"
   ]
  },
  {
   "cell_type": "code",
   "execution_count": 40,
   "id": "b4d7559c-a4c6-4c8f-b42b-85102894a02b",
   "metadata": {},
   "outputs": [
    {
     "data": {
      "text/plain": [
       "'10'"
      ]
     },
     "execution_count": 40,
     "metadata": {},
     "output_type": "execute_result"
    }
   ],
   "source": [
    "list(stats.keys())[0]"
   ]
  },
  {
   "cell_type": "code",
   "execution_count": 56,
   "id": "2bc1b9c5-2e00-4960-9793-7fcb2acb1274",
   "metadata": {},
   "outputs": [
    {
     "data": {
      "text/plain": [
       "{'a': 100, 'b': 5, 'c': 1000}"
      ]
     },
     "execution_count": 56,
     "metadata": {},
     "output_type": "execute_result"
    }
   ],
   "source": [
    "test = {'a': 100, \"b\": 5, \"c\": 1000}\n",
    "test"
   ]
  },
  {
   "cell_type": "code",
   "execution_count": 57,
   "id": "fb8fcc02-e25c-4780-bc6b-23e4934205db",
   "metadata": {},
   "outputs": [
    {
     "data": {
      "text/plain": [
       "'c'"
      ]
     },
     "execution_count": 57,
     "metadata": {},
     "output_type": "execute_result"
    }
   ],
   "source": [
    "max(test, key=test.get)"
   ]
  },
  {
   "cell_type": "code",
   "execution_count": null,
   "id": "b0f980a6-7cf1-47bf-a39c-243ef3b11665",
   "metadata": {},
   "outputs": [],
   "source": []
  }
 ],
 "metadata": {
  "kernelspec": {
   "display_name": "Python 3 (ipykernel)",
   "language": "python",
   "name": "python3"
  },
  "language_info": {
   "codemirror_mode": {
    "name": "ipython",
    "version": 3
   },
   "file_extension": ".py",
   "mimetype": "text/x-python",
   "name": "python",
   "nbconvert_exporter": "python",
   "pygments_lexer": "ipython3",
   "version": "3.10.12"
  }
 },
 "nbformat": 4,
 "nbformat_minor": 5
}
