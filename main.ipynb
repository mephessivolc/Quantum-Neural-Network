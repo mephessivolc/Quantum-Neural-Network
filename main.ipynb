{
 "cells": [
  {
   "cell_type": "code",
   "execution_count": 1,
   "id": "5dc843d8-e0d6-4ff4-9b4a-93d1c7713f51",
   "metadata": {},
   "outputs": [],
   "source": [
    "import numpy as np\n",
    "import math\n",
    "import copy"
   ]
  },
  {
   "cell_type": "code",
   "execution_count": 3,
   "id": "e230803a-d125-42f8-99c2-6cc50f91475b",
   "metadata": {},
   "outputs": [],
   "source": [
    "from sklearn import model_selection, datasets, svm\n",
    "from sklearn.preprocessing import normalize"
   ]
  },
  {
   "cell_type": "code",
   "execution_count": 4,
   "id": "126ef24c-57ed-4d55-97df-6ca4b61f3480",
   "metadata": {},
   "outputs": [],
   "source": [
    "from qiskit import QuantumCircuit, QuantumRegister, ClassicalRegister\n",
    "from qiskit_aer import AerSimulator"
   ]
  },
  {
   "cell_type": "code",
   "execution_count": 34,
   "id": "ab6594ce-9723-487c-ba8c-2ca6d07d4c23",
   "metadata": {},
   "outputs": [],
   "source": [
    "iris = datasets.load_iris()\n",
    "X = iris.data\n",
    "# X = normalize(iris.data)\n",
    "Y = iris.target\n",
    "X_train, X_test, Y_train, Y_text = model_selection.train_test_split(X_norm, Y, test_size=0.33, random_state=42)"
   ]
  },
  {
   "cell_type": "code",
   "execution_count": 7,
   "id": "c922743f-01d0-40da-affa-69044a612122",
   "metadata": {},
   "outputs": [],
   "source": [
    "N = 4"
   ]
  },
  {
   "cell_type": "code",
   "execution_count": 8,
   "id": "73524d59-8d51-4fdd-8a57-785b8b321422",
   "metadata": {},
   "outputs": [],
   "source": [
    "def feature_map(X):\n",
    "    q = QuantumRegister(N, name='q')\n",
    "    c = ClassicalRegister(2, name='c1')\n",
    "    qc = QuantumCircuit(q, c)\n",
    "    \n",
    "    for i, x in enumerate(X_train[0]):\n",
    "        qc.rx(x, i) \n",
    "        \n",
    "    return qc, c"
   ]
  },
  {
   "cell_type": "code",
   "execution_count": 9,
   "id": "88cc7282-9aef-4be4-9528-1dedef0d130c",
   "metadata": {},
   "outputs": [],
   "source": [
    "def variational_circuit(qc, theta):\n",
    "    for i in range(N-1):\n",
    "        qc.cx(i, i+1)\n",
    "\n",
    "    qc.cx(N-1, 0)\n",
    "    qc.barrier()\n",
    "    for i in range(N):\n",
    "        qc.ry(theta[i], i)\n",
    "\n",
    "    qc.barrier()\n",
    "    \n",
    "    return qc"
   ]
  },
  {
   "cell_type": "code",
   "execution_count": 10,
   "id": "338555c7-d01a-4309-a830-837078dfb009",
   "metadata": {},
   "outputs": [],
   "source": [
    "def binary2int(bstring: str):\n",
    "    if not isinstance(bstring, str):\n",
    "        bstring = str(bstring)\n",
    "    return int(bstring, 2)\n",
    "\n",
    "# print(binary2int(\"101101\"))"
   ]
  },
  {
   "cell_type": "code",
   "execution_count": 11,
   "id": "f872594f-15cb-4062-8d96-27a96ab1c4b4",
   "metadata": {},
   "outputs": [],
   "source": [
    "def get_max(dict_to_verify: dict):\n",
    "    return max(dict_to_verify, key=dict_to_verify.get)"
   ]
  },
  {
   "cell_type": "code",
   "execution_count": 12,
   "id": "bd541486-0671-4f35-b20d-e73403434d60",
   "metadata": {},
   "outputs": [],
   "source": [
    "def quantum_nn(X, theta, simulator=True):\n",
    "    qc, c = feature_map(X)\n",
    "    \n",
    "    qc.barrier()\n",
    "    qc = variational_circuit(qc, theta)\n",
    "    qc.measure(0,c[0])\n",
    "    qc.measure(1,c[1])\n",
    "    \n",
    "    # parte que deve ser alterada para a nova versão do qiskit\n",
    "    shots = 1E4\n",
    "    # backend = Aer.get_backend(\"qasm_simulator\")\n",
    "    results = AerSimulator().run(qc, shots=1E4, memory=True).result()\n",
    "    # job = qiskit.execute(qc, backend, shots=shots)\n",
    "    # result = job.result()\n",
    "    counts = results.get_counts(qc)\n",
    "\n",
    "    # até aqui precisa ser refatorado para nova versão\n",
    "    \n",
    "    # print(counts)\n",
    "    # print(counts['1']/shots)\n",
    "\n",
    "    # aqui que precisa ser montado o esquema de verificação de encontro para os valores dos dados necessários\n",
    "    stats = {}\n",
    "    for key, value in counts.items():\n",
    "        stats[binary2int(key)] = value / shots\n",
    "\n",
    "    result = get_max(stats)\n",
    "    # return stats\n",
    "    return result"
   ]
  },
  {
   "cell_type": "code",
   "execution_count": 13,
   "id": "446b4bd6-1810-4bc1-84bd-3eea775d2e2d",
   "metadata": {},
   "outputs": [],
   "source": [
    "def loss(prediction, target):\n",
    "    return math.pow(target-prediction, 2)"
   ]
  },
  {
   "cell_type": "code",
   "execution_count": 22,
   "id": "3bc90554-4372-4008-8c27-0e58fa7f7ae7",
   "metadata": {},
   "outputs": [],
   "source": [
    "def gradient(X, Y, theta):\n",
    "    delta = 0.01\n",
    "    grad = []\n",
    "    for i in range(len(theta)):\n",
    "        dtheta = copy.copy(theta)\n",
    "        dtheta[i] += delta\n",
    "\n",
    "        pred1 = quantum_nn(X, dtheta)\n",
    "        pred2 = quantum_nn(X, theta)\n",
    "\n",
    "        grad.append((loss(pred1, Y) - loss(pred2,Y))/delta)\n",
    "\n",
    "    return np.array(grad) "
   ]
  },
  {
   "cell_type": "code",
   "execution_count": 15,
   "id": "538cca6c-b603-417a-8705-eda9bd141bf7",
   "metadata": {},
   "outputs": [
    {
     "name": "stdout",
     "output_type": "stream",
     "text": [
      "0 0\n"
     ]
    }
   ],
   "source": [
    "prediction = quantum_nn(X_train[5], np.random.rand(N))\n",
    "target = Y_train[5]\n",
    "print(prediction, target)"
   ]
  },
  {
   "cell_type": "code",
   "execution_count": 16,
   "id": "72d8d051-3a4b-4d84-a84e-bed4a00be96f",
   "metadata": {},
   "outputs": [
    {
     "data": {
      "text/plain": [
       "0.0"
      ]
     },
     "execution_count": 16,
     "metadata": {},
     "output_type": "execute_result"
    }
   ],
   "source": [
    "loss(prediction, target)"
   ]
  },
  {
   "cell_type": "code",
   "execution_count": null,
   "id": "b3019e64-a9c5-4dbf-9fbe-fd34b71e373f",
   "metadata": {},
   "outputs": [
    {
     "name": "stdout",
     "output_type": "stream",
     "text": [
      "Epoch:  1\t1.71\n",
      "Epoch:  2\t1.71\n",
      "Epoch:  3\t1.71\n",
      "Epoch:  4\t1.71\n",
      "Epoch:  5\t1.71\n",
      "Epoch:  6\t1.71\n",
      "Epoch:  7\t1.71\n",
      "Epoch:  8\t1.71\n",
      "Epoch:  9\t1.71\n",
      "Epoch: 10\t1.71\n",
      "Epoch: 11\t1.71\n",
      "Epoch: 12\t1.71\n",
      "Epoch: 13\t1.71\n",
      "Epoch: 14\t1.71\n",
      "Epoch: 15\t1.71\n",
      "Epoch: 16\t1.71\n",
      "Epoch: 17\t1.71\n",
      "Epoch: 18\t1.71\n",
      "Epoch: 19\t1.71\n"
     ]
    }
   ],
   "source": [
    "eta = 0.05\n",
    "loss_list = []\n",
    "theta = np.random.rand(N)\n",
    "\n",
    "for _ in range(20):\n",
    "    \n",
    "    loss_tmp = []\n",
    "    for X_i, Y_i in zip(X_train, Y_train):\n",
    "        prediction = quantum_nn(X_i, theta)\n",
    "        loss_tmp.append(loss(prediction, Y_i))\n",
    "        theta = theta - eta * gradient(X_i, Y_i, theta) # gradiente descendent\n",
    "\n",
    "    print(f\"Epoch: {_+1:2}\\tMean: {np.mean(loss_tmp)}\")\n",
    "    loss_list.append(np.mean(loss_tmp))"
   ]
  },
  {
   "cell_type": "code",
   "execution_count": 36,
   "id": "98db9178-0e98-4f6e-b027-910bb4307ec0",
   "metadata": {},
   "outputs": [
    {
     "data": {
      "text/plain": [
       "[1.71,\n",
       " 1.71,\n",
       " 1.71,\n",
       " 1.71,\n",
       " 1.71,\n",
       " 1.71,\n",
       " 1.71,\n",
       " 1.71,\n",
       " 1.71,\n",
       " 1.71,\n",
       " 1.71,\n",
       " 1.71,\n",
       " 1.71,\n",
       " 1.71,\n",
       " 1.71,\n",
       " 1.71,\n",
       " 1.71,\n",
       " 1.71,\n",
       " 1.71,\n",
       " 1.71]"
      ]
     },
     "execution_count": 36,
     "metadata": {},
     "output_type": "execute_result"
    }
   ],
   "source": [
    "loss_list"
   ]
  },
  {
   "cell_type": "code",
   "execution_count": null,
   "id": "2d860102-c6e4-4426-9489-9f8f842d82eb",
   "metadata": {},
   "outputs": [],
   "source": []
  }
 ],
 "metadata": {
  "kernelspec": {
   "display_name": "Python 3 (ipykernel)",
   "language": "python",
   "name": "python3"
  },
  "language_info": {
   "codemirror_mode": {
    "name": "ipython",
    "version": 3
   },
   "file_extension": ".py",
   "mimetype": "text/x-python",
   "name": "python",
   "nbconvert_exporter": "python",
   "pygments_lexer": "ipython3",
   "version": "3.10.12"
  }
 },
 "nbformat": 4,
 "nbformat_minor": 5
}
