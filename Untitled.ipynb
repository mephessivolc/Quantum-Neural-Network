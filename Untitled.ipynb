{
 "cells": [
  {
   "cell_type": "code",
   "execution_count": 8,
   "id": "27bfc8e6-dcbf-4700-91dc-8b522a14fcee",
   "metadata": {},
   "outputs": [],
   "source": [
    "import os\n",
    "import numpy as np"
   ]
  },
  {
   "cell_type": "code",
   "execution_count": 12,
   "id": "991f6c12-b428-4c19-a009-7347e5ed53dc",
   "metadata": {},
   "outputs": [],
   "source": [
    "from qiskit_aer import AerSimulator\n",
    "from qiskit import QuantumCircuit, QuantumRegister, ClassicalRegister"
   ]
  },
  {
   "cell_type": "code",
   "execution_count": null,
   "id": "dfd0a118-4fbd-487a-ae3c-fae69e098cca",
   "metadata": {},
   "outputs": [],
   "source": [
    "import tensorflow as tf"
   ]
  },
  {
   "cell_type": "code",
   "execution_count": 4,
   "id": "094ac682-02dc-42b7-8b1b-8e8e0e35cdc7",
   "metadata": {},
   "outputs": [],
   "source": [
    "N = 4"
   ]
  },
  {
   "cell_type": "markdown",
   "id": "f092092b-7bde-4f0a-ac6c-29e42dfa0275",
   "metadata": {},
   "source": [
    "# Ler o DataSet"
   ]
  },
  {
   "cell_type": "code",
   "execution_count": 6,
   "id": "29c68d47-2d65-4156-a2a8-0740e24ac848",
   "metadata": {},
   "outputs": [],
   "source": [
    "def read_graph(filepath):\n",
    "    with open(filepath,\"r\") as f:\n",
    "\n",
    "        line = ''\n",
    "\n",
    "        # Parse number of vertices\n",
    "        while 'DIMENSION' not in line: line = f.readline();\n",
    "        n = int(line.split()[1])\n",
    "        Ma = np.zeros((n,n),dtype=int)\n",
    "        \n",
    "        # Parse edges\n",
    "        while 'EDGE_DATA_SECTION' not in line: line = f.readline();\n",
    "        line = f.readline()\n",
    "        while '-1' not in line:\n",
    "            i,j = [ int(x) for x in line.split() ]\n",
    "            Ma[i,j] = 1\n",
    "            line = f.readline()\n",
    "        #end while\n",
    "\n",
    "        # Parse diff edge\n",
    "        while 'DIFF_EDGE' not in line: line = f.readline();\n",
    "        diff_edge = [ int(x) for x in f.readline().split() ]\n",
    "\n",
    "        # Parse target cost\n",
    "        while 'CHROM_NUMBER' not in line: line = f.readline();\n",
    "        chrom_number = int(f.readline().strip())\n",
    "\n",
    "    #end\n",
    "    return Ma,chrom_number #,diff_edge"
   ]
  },
  {
   "cell_type": "code",
   "execution_count": 9,
   "id": "5a76fc26-544d-42ad-a9ac-fb8b531709c6",
   "metadata": {},
   "outputs": [
    {
     "name": "stdout",
     "output_type": "stream",
     "text": [
      "[3, 3, 3, 3, 2, 3, 3, 4, 3, 3, 3, 3, 3, 3, 2, 3, 3, 2, 3, 3, 3, 4, 3, 3, 3, 3, 4, 3, 3, 3, 4, 3, 3, 3, 3, 3, 3, 3, 2, 3, 4, 2, 2, 2, 4, 2, 3, 3, 3, 4, 3, 3, 2, 2, 3, 2, 4, 3, 3, 2, 3, 4, 3, 4, 3, 2, 2, 4, 3, 4, 3, 4, 2, 4, 4, 3, 3, 2, 3, 3, 3, 2, 2, 3, 3, 2, 2, 4, 3, 3, 3, 2, 3, 3, 3, 3, 4, 3, 3, 3, 4, 2, 4, 2, 2, 4, 2, 2, 3, 3, 4, 3, 2, 4, 3, 3, 3, 4, 3, 2, 3, 3, 3, 3, 4, 3, 4, 3, 3, 3, 3, 3, 3, 3, 3, 4, 4, 3, 3, 4, 4, 3, 3, 3, 3, 2, 2, 3, 3, 4, 4, 4, 3, 3, 2, 3, 2, 3, 3, 2, 4, 4, 2, 3, 3, 3, 3, 3, 3, 2, 4, 3, 3, 3, 3, 3, 4, 2, 2, 3, 3, 3, 2, 2, 3, 3, 3, 3, 2, 4, 4, 4, 4, 3, 3, 2, 3, 3, 2, 3, 3, 3, 3, 4, 3, 2, 4, 4, 4, 3, 4, 3, 3, 3, 3, 4, 3, 2, 4, 2, 2, 2, 3, 2, 2, 3, 3, 3, 3, 4, 4, 4, 3, 3, 3, 3, 4, 3, 3, 3, 4, 2, 3, 3, 3, 3, 3, 4, 4, 3, 3, 3, 2, 3, 4, 3, 4, 3, 3, 3, 3, 4, 4, 2, 4, 3, 3, 3, 2, 3, 4, 2, 3, 2, 2, 3, 3, 3, 3, 3, 4, 4, 4, 3, 3, 3, 3, 3, 3, 3, 3, 3, 3, 3, 3, 4, 3, 2, 4, 3, 2, 3, 3, 4, 3, 3, 2, 3, 2, 3, 3, 3, 3, 3, 3, 2, 3, 4, 3, 3, 3, 3, 3, 2, 3, 3, 2, 3, 3, 4, 3, 3, 3, 2, 4, 3, 4, 3, 3, 2, 3, 3, 3, 3, 3, 3, 2, 4, 3, 3, 2, 3, 3, 3, 2, 4, 4, 4, 3, 2, 3, 3, 3, 3, 3, 3, 2, 3, 4, 3, 3, 3, 3, 2, 2, 3, 3, 3, 3, 4, 3, 2, 3, 4, 2, 3, 3, 3, 3, 3, 3, 2, 3, 2, 3, 3, 3, 3, 3, 4, 3, 2, 3, 2, 3, 3, 3, 3, 3, 3, 2, 3, 3, 3, 3, 3, 2, 2, 2, 3, 4, 3, 3, 3, 3, 3, 2, 3, 4, 3, 4, 3, 3, 4, 3, 3, 3, 3, 3, 3, 2, 2, 3, 3, 3, 3, 3, 3, 4, 3, 3, 3, 3, 2, 3, 3, 3, 3, 2, 4, 3, 2, 3, 3, 2, 3, 3, 3, 2, 3, 3, 3, 2, 4, 2, 3, 3, 3, 3, 2, 3, 3, 3, 3, 3, 3, 2, 4, 3, 2, 3, 3, 2, 3, 3, 3, 3, 3, 3, 4, 4, 2, 3, 4, 2, 4, 3, 3, 3, 3, 2, 4, 3, 4, 3, 4, 2, 3, 3, 3, 4, 4, 3, 3, 3, 3, 3, 3, 3, 4, 3, 1, 3, 3, 2, 3, 3, 2, 3, 2, 4, 3, 3, 3, 3, 4, 3, 4, 3, 3, 3, 2, 3, 3, 3, 3, 3, 3, 3, 4, 2, 4, 3, 3, 3, 2, 3, 3, 2, 3, 3, 4, 3, 2, 3, 3, 3, 3, 3, 4, 3, 3]\n"
     ]
    }
   ],
   "source": [
    "X_train = []\n",
    "y_train = []\n",
    "\n",
    "for filename in os.listdir(f'qrnn-{N}-training'):\n",
    "    # Ma,chrom_number,diff_edge = read_graph(\"{}{}\".format('qrnn-training-5/',filename))\n",
    "    Ma,chrom_number = read_graph(f\"qrnn-{N}-training/{filename}\")\n",
    "    X_train.append(Ma)\n",
    "    y_train.append(chrom_number)\n",
    "\n",
    "# print(y_train)"
   ]
  },
  {
   "cell_type": "markdown",
   "id": "a3a418fb-f9b9-4315-a6fd-b3806139f9ad",
   "metadata": {},
   "source": [
    "# Construção da Camada Quântica"
   ]
  },
  {
   "cell_type": "code",
   "execution_count": null,
   "id": "637fb06d-86e8-4b79-b791-295e4c4a26c8",
   "metadata": {},
   "outputs": [],
   "source": []
  },
  {
   "cell_type": "code",
   "execution_count": 17,
   "id": "0568233b-a420-4130-a42c-86658332fa03",
   "metadata": {},
   "outputs": [
    {
     "data": {
      "image/png": "[encoded data removed]",
      "text/plain": [
       "<Figure size 305.929x451.5 with 1 Axes>"
      ]
     },
     "execution_count": 17,
     "metadata": {},
     "output_type": "execute_result"
    }
   ],
   "source": [
    "def feature_map(inputs, bit_length_response):\n",
    "    qReg = QuantumRegister(len(inputs))\n",
    "    cReg = ClassicalRegister(bit_length_response)\n",
    "\n",
    "    qc = QuantumCircuit(qReg, cReg)\n",
    "    \n",
    "    for i, x in enumerate(inputs):\n",
    "        qc.rx(x, i)\n",
    "    \n",
    "    qc.barrier()\n",
    "    \n",
    "    return qc, cReg\n",
    "\n",
    "qc, c = feature_map(np.random.rand(4,4)[-1], 2)\n",
    "qc.draw('mpl')"
   ]
  },
  {
   "cell_type": "code",
   "execution_count": null,
   "id": "fd556091-b66b-455d-b752-86ce4c5c7668",
   "metadata": {},
   "outputs": [],
   "source": [
    "class QuantumLayer(tf.keras.layers.Layer):\n",
    "    def __init__(self, bit_length_response=2, shots=10000, **kwargs):\n",
    "        super(QuantumLayer, self).__init__(**kwargs)\n",
    "        self.bit_length_response = bit_length_response\n",
    "        self.shots = shots\n",
    "\n",
    "    def build(self, input_shape):\n",
    "        self.N = input_shape[-1]\n",
    "        self.n_response = self.bit_length_response\n",
    "        self.theta = self.add_weight(name='theta', shape=(self.N,), initializer='random_normal', trainable=True)\n",
    "\n",
    "    def call(self, inputs):\n",
    "        if tf.executing_eagerly():\n",
    "            qc, c = feature_map(inputs, bit_length_response)\n",
    "            qc = variational_circuit(qc, self.theta)\n",
    "    \n",
    "            for i in range(self.bit_length_response):\n",
    "                qc.measure(i, c[i])\n",
    "    \n",
    "            results = AerSimulator().run(qc, shots=self.shots, memory=True).result()\n",
    "            counts = results.get_counts(qc)\n",
    "    \n",
    "            stats = {}\n",
    "            for key, value in counts.items():\n",
    "                stats[binary2int(key)] = value / self.shots\n",
    "    \n",
    "            ordened_stats = sorted(stats, key=stats.get)\n",
    "    \n",
    "            ordened_results = []\n",
    "            for key in ordened_stats:\n",
    "                ordened_results.append(stats[key])\n",
    "    \n",
    "            return tf.convert_to_tensor(np.array(ordened_results))\n",
    "\n",
    "        return inputs\n",
    "\n",
    "    def get_config(self):\n",
    "        config = super(QuantumLayer, self).get_config()\n",
    "        config.update({\n",
    "            'bit_length_response': self.bit_length_response,\n",
    "            'shots': self.shots,\n",
    "        })\n",
    "        return config\n",
    "        "
   ]
  },
  {
   "cell_type": "code",
   "execution_count": null,
   "id": "73d9d8cb-5660-40cc-aec7-d20818fdc21d",
   "metadata": {},
   "outputs": [],
   "source": [
    "# Exemplo de uso da camada personalizada em um modelo\n",
    "model = tf.keras.Sequential([\n",
    "    tf.keras.layers.Dense(64, activation='relu'),\n",
    "    QuantumLayer(bit_length_response=2, shots=10000),\n",
    "    tf.keras.layers.Dense(10)\n",
    "])"
   ]
  },
  {
   "cell_type": "code",
   "execution_count": null,
   "id": "b8ed4fb1-dade-4673-b586-c2a8e4cd5946",
   "metadata": {},
   "outputs": [],
   "source": [
    "#### Compilando o modelo\n",
    "model.compile(optimizer='adam',\n",
    "              loss=tf.keras.losses.SparseCategoricalCrossentropy(from_logits=True),\n",
    "              metrics=['accuracy'])"
   ]
  },
  {
   "cell_type": "code",
   "execution_count": null,
   "id": "f88c91ab-96dc-4e79-9da2-9636fd40a9f0",
   "metadata": {},
   "outputs": [],
   "source": [
    "# Treinando o modelo\n",
    "model.fit(X_train, y_train, epochs=50)"
   ]
  },
  {
   "cell_type": "markdown",
   "id": "9fac7ab6-f59a-451d-9887-a3b69882f346",
   "metadata": {},
   "source": [
    "# Plotar grafico de Épocas x Acurácia"
   ]
  },
  {
   "cell_type": "code",
   "execution_count": null,
   "id": "1afee321-8167-4a4a-bf8c-ebcd65db09c1",
   "metadata": {},
   "outputs": [],
   "source": [
    "import matplotlib.pyplot as plt\n",
    "\n",
    "# Treinando o modelo e salvando o histórico\n",
    "history = model.fit(X_train, y_train, epochs=50, validation_data=(X_test, y_test))\n",
    "\n",
    "# Obtendo as métricas de acurácia do histórico\n",
    "train_accuracy = history.history['accuracy']\n",
    "test_accuracy = history.history['val_accuracy']\n",
    "\n",
    "# Construindo o gráfico\n",
    "plt.plot(range(1, len(train_accuracy) + 1), train_accuracy, label='Acurácia de Treino')\n",
    "plt.plot(range(1, len(test_accuracy) + 1), test_accuracy, label='Acurácia de Teste')\n",
    "plt.xlabel('Épocas')\n",
    "plt.ylabel('Acurácia')\n",
    "plt.title('Acurácia ao longo das Épocas')\n",
    "plt.legend()\n",
    "plt.show()\n"
   ]
  }
 ],
 "metadata": {
  "kernelspec": {
   "display_name": "Python 3 (ipykernel)",
   "language": "python",
   "name": "python3"
  },
  "language_info": {
   "codemirror_mode": {
    "name": "ipython",
    "version": 3
   },
   "file_extension": ".py",
   "mimetype": "text/x-python",
   "name": "python",
   "nbconvert_exporter": "python",
   "pygments_lexer": "ipython3",
   "version": "3.12.2"
  }
 },
 "nbformat": 4,
 "nbformat_minor": 5
}
