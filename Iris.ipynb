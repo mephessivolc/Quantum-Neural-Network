{
 "cells": [
  {
   "cell_type": "code",
   "execution_count": 1,
   "id": "5dc843d8-e0d6-4ff4-9b4a-93d1c7713f51",
   "metadata": {},
   "outputs": [],
   "source": [
    "import numpy as np\n",
    "import math\n",
    "import copy"
   ]
  },
  {
   "cell_type": "code",
   "execution_count": 2,
   "id": "e230803a-d125-42f8-99c2-6cc50f91475b",
   "metadata": {},
   "outputs": [],
   "source": [
    "from sklearn import model_selection, datasets, svm\n",
    "from sklearn.preprocessing import normalize"
   ]
  },
  {
   "cell_type": "code",
   "execution_count": 3,
   "id": "126ef24c-57ed-4d55-97df-6ca4b61f3480",
   "metadata": {},
   "outputs": [],
   "source": [
    "from qiskit import QuantumCircuit, QuantumRegister, ClassicalRegister\n",
    "from qiskit_aer import AerSimulator"
   ]
  },
  {
   "cell_type": "code",
   "execution_count": 4,
   "id": "ab6594ce-9723-487c-ba8c-2ca6d07d4c23",
   "metadata": {},
   "outputs": [],
   "source": [
    "iris = datasets.load_iris()\n",
    "X = iris.data\n",
    "# X = normalize(iris.data)\n",
    "Y = iris.target\n",
    "X_train, X_test, Y_train, Y_test = model_selection.train_test_split(X, Y, test_size=0.33, random_state=42)"
   ]
  },
  {
   "cell_type": "code",
   "execution_count": 5,
   "id": "c922743f-01d0-40da-affa-69044a612122",
   "metadata": {},
   "outputs": [],
   "source": [
    "N = 4"
   ]
  },
  {
   "cell_type": "code",
   "execution_count": 6,
   "id": "73524d59-8d51-4fdd-8a57-785b8b321422",
   "metadata": {},
   "outputs": [],
   "source": [
    "def feature_map(X):\n",
    "    q = QuantumRegister(N, name='q')\n",
    "    c = ClassicalRegister(N, name='c1')\n",
    "    qc = QuantumCircuit(q, c)\n",
    "    \n",
    "    for i, x in enumerate(X):\n",
    "        qc.rx(x, i) \n",
    "        \n",
    "    return qc, c"
   ]
  },
  {
   "cell_type": "code",
   "execution_count": 7,
   "id": "88cc7282-9aef-4be4-9528-1dedef0d130c",
   "metadata": {},
   "outputs": [],
   "source": [
    "def variational_circuit(qc, theta):\n",
    "    for i in range(N-1):\n",
    "        qc.cx(i, i+1) # cnot gate\n",
    "\n",
    "    qc.cx(N-1, 0)\n",
    "    qc.barrier()\n",
    "    for i in range(N):\n",
    "        qc.ry(theta[i], i)\n",
    "\n",
    "    qc.barrier()\n",
    "    \n",
    "    return qc"
   ]
  },
  {
   "cell_type": "code",
   "execution_count": 8,
   "id": "338555c7-d01a-4309-a830-837078dfb009",
   "metadata": {},
   "outputs": [],
   "source": [
    "def binary2int(bstring: str):\n",
    "    if not isinstance(bstring, str):\n",
    "        bstring = str(bstring)\n",
    "    return int(bstring, 2)\n",
    "\n",
    "# print(binary2int(\"101101\"))"
   ]
  },
  {
   "cell_type": "code",
   "execution_count": 9,
   "id": "f872594f-15cb-4062-8d96-27a96ab1c4b4",
   "metadata": {},
   "outputs": [],
   "source": [
    "def get_max(dict_to_verify: dict):\n",
    "    return max(dict_to_verify, key=dict_to_verify.get)"
   ]
  },
  {
   "cell_type": "code",
   "execution_count": 10,
   "id": "bd541486-0671-4f35-b20d-e73403434d60",
   "metadata": {},
   "outputs": [
    {
     "data": {
      "text/plain": [
       "(15, 0.2512)"
      ]
     },
     "execution_count": 10,
     "metadata": {},
     "output_type": "execute_result"
    }
   ],
   "source": [
    "def quantum_nn(X, theta, simulator=True):\n",
    "    qc, c = feature_map(X)\n",
    "    \n",
    "    qc.barrier()\n",
    "    qc = variational_circuit(qc, theta)\n",
    "    \n",
    "    for i in range(N):\n",
    "        qc.measure(i, c[i])\n",
    "    \n",
    "    \n",
    "    shots = 1E4\n",
    "    results = AerSimulator().run(qc, shots=1E4, memory=True).result()\n",
    "    counts = results.get_counts(qc)\n",
    "\n",
    "    stats = {}\n",
    "    for key, value in counts.items():\n",
    "        stats[binary2int(key)] = value / shots\n",
    "\n",
    "    result = get_max(stats)\n",
    "    \n",
    "    return result, stats[result]\n",
    "\n",
    "quantum_nn(X[0], np.random.rand(N))"
   ]
  },
  {
   "cell_type": "code",
   "execution_count": 11,
   "id": "446b4bd6-1810-4bc1-84bd-3eea775d2e2d",
   "metadata": {},
   "outputs": [],
   "source": [
    "def loss(prediction, target):\n",
    "    # print(f\"loss: {math.pow(target-prediction, 2)}\")\n",
    "    return math.pow(target-prediction, 2)"
   ]
  },
  {
   "cell_type": "code",
   "execution_count": 12,
   "id": "3bc90554-4372-4008-8c27-0e58fa7f7ae7",
   "metadata": {},
   "outputs": [
    {
     "data": {
      "text/plain": [
       "array([-0.380856,  0.380072, -0.471905,  0.163176])"
      ]
     },
     "execution_count": 12,
     "metadata": {},
     "output_type": "execute_result"
    }
   ],
   "source": [
    "def gradient(X, Y, theta):\n",
    "    delta = 0.01\n",
    "    grad = []\n",
    "    for i in range(len(theta)):\n",
    "        dtheta = copy.copy(theta)\n",
    "        dtheta[i] += delta\n",
    "\n",
    "        int_pred1, value_pred1 = quantum_nn(X, dtheta)\n",
    "        int_pred2, value_pred2 = quantum_nn(X, theta)\n",
    "\n",
    "        # print(f\"{i}\\tpred1: {int_pred1}, {value_pred1}\\n \\tpred2: {int_pred2}, {value_pred2}\")\n",
    "        grad.append((loss(value_pred1, Y) - loss(value_pred2, Y))/delta)\n",
    "\n",
    "    return np.array(grad) \n",
    "\n",
    "gradient(X_train[0], Y_train[0], np.random.rand(N))"
   ]
  },
  {
   "cell_type": "code",
   "execution_count": 13,
   "id": "f7a0f7e7-c9cc-4104-849f-8d0979b0e215",
   "metadata": {},
   "outputs": [
    {
     "data": {
      "text/plain": [
       "0.0"
      ]
     },
     "execution_count": 13,
     "metadata": {},
     "output_type": "execute_result"
    }
   ],
   "source": [
    "def accuracy(X, Y, theta):\n",
    "    counter = 0 \n",
    "    for X_i, Y_i in zip(X, Y):\n",
    "        pred_int, pred_value = quantum_nn(X_i, theta)\n",
    "\n",
    "        if pred_int == Y_i:\n",
    "            counter += 1\n",
    "\n",
    "    return counter / len(Y)\n",
    "\n",
    "accuracy(X_test, Y_test, np.random.rand(N))"
   ]
  },
  {
   "cell_type": "code",
   "execution_count": 15,
   "id": "538cca6c-b603-417a-8705-eda9bd141bf7",
   "metadata": {},
   "outputs": [
    {
     "name": "stdout",
     "output_type": "stream",
     "text": [
      "2 1\n"
     ]
    }
   ],
   "source": [
    "pred_int, pred_value = quantum_nn(X_train[5], np.random.rand(N))\n",
    "target = Y_train[5]\n",
    "print(pred_int, target)"
   ]
  },
  {
   "cell_type": "code",
   "execution_count": 16,
   "id": "72d8d051-3a4b-4d84-a84e-bed4a00be96f",
   "metadata": {},
   "outputs": [
    {
     "data": {
      "text/plain": [
       "1.0"
      ]
     },
     "execution_count": 16,
     "metadata": {},
     "output_type": "execute_result"
    }
   ],
   "source": [
    "loss(pred_int, target)"
   ]
  },
  {
   "cell_type": "code",
   "execution_count": 25,
   "id": "74faa7eb-0f29-4c82-a1c3-397ee35104f8",
   "metadata": {},
   "outputs": [
    {
     "name": "stdout",
     "output_type": "stream",
     "text": [
      "[0.42981369 0.97045091 0.13767134 0.24298117]\n"
     ]
    }
   ],
   "source": [
    "eta = 0.05\n",
    "loss_list = []\n",
    "theta = np.random.rand(N)\n",
    "print(theta)"
   ]
  },
  {
   "cell_type": "code",
   "execution_count": 26,
   "id": "b3019e64-a9c5-4dbf-9fbe-fd34b71e373f",
   "metadata": {},
   "outputs": [
    {
     "name": "stdout",
     "output_type": "stream",
     "text": [
      "i= 1\t loss=47.160\t acc=0.0\n",
      " \ttheta=[-0.06811056  0.15388686 -0.24304901 -0.42497268]\n",
      "i= 2\t loss=65.040\t acc=0.0\n",
      " \ttheta=[-0.08740776 -0.54508494  0.32670964  0.06827537]\n",
      "i= 3\t loss=59.400\t acc=0.0\n",
      " \ttheta=[-0.46101211 -0.47405664 -0.48679866 -0.61374138]\n",
      "i= 4\t loss=64.510\t acc=0.0\n",
      " \ttheta=[-0.91411546  0.02469571 -0.20614116 -0.32726108]\n",
      "i= 5\t loss=65.790\t acc=0.0\n",
      " \ttheta=[ 0.27615829 -0.28004074 -0.89431056 -0.39111593]\n",
      "i= 6\t loss=73.950\t acc=0.0\n",
      " \ttheta=[ 0.46877824 -0.60971654 -0.91573921  0.29416027]\n",
      "i= 7\t loss=77.920\t acc=0.0\n",
      " \ttheta=[ 0.18031514 -0.06435309 -1.22217056 -0.35588818]\n",
      "i= 8\t loss=58.800\t acc=0.06\n",
      " \ttheta=[-0.60501421  0.44183871 -1.65980506  0.03368307]\n",
      "i= 9\t loss=64.340\t acc=0.0\n",
      " \ttheta=[-0.04467936  0.16235756 -1.10925591  0.23513572]\n",
      "i=10\t loss=69.810\t acc=0.0\n",
      " \ttheta=[-0.16807501  0.12058001 -0.75146476  0.21645657]\n",
      "i=11\t loss=67.350\t acc=0.0\n",
      " \ttheta=[ 0.48231589 -0.37543329 -1.29934206 -0.10328758]\n",
      "i=12\t loss=74.930\t acc=0.0\n",
      " \ttheta=[ 0.17472629 -0.61558289 -0.72352931 -0.05588448]\n",
      "i=13\t loss=71.860\t acc=0.0\n",
      " \ttheta=[ 0.45032619 -0.09567524 -0.91726901 -0.05717983]\n",
      "i=14\t loss=65.270\t acc=0.0\n",
      " \ttheta=[ 0.98752124  0.20021351 -0.37537596  0.36950282]\n",
      "i=15\t loss=53.840\t acc=0.0\n",
      " \ttheta=[ 0.13243774  0.47878686 -0.15567806  0.30150372]\n",
      "i=16\t loss=65.430\t acc=0.0\n",
      " \ttheta=[ 0.61988299 -0.43185209 -0.79886336  0.19394397]\n",
      "i=17\t loss=66.000\t acc=0.0\n",
      " \ttheta=[-0.46460286 -0.80759364 -0.49580726 -0.36155578]\n",
      "i=18\t loss=67.990\t acc=0.0\n",
      " \ttheta=[-0.10656901  0.03828536 -0.98394581 -0.47434508]\n",
      "i=19\t loss=67.220\t acc=0.0\n",
      " \ttheta=[-0.30877086 -0.47796284 -1.19673736 -0.26155548]\n",
      "i=20\t loss=67.230\t acc=0.01\n",
      " \ttheta=[ 0.43140844  0.86525841 -1.50051876 -0.63419588]\n",
      "i=21\t loss=54.480\t acc=0.12\n",
      " \ttheta=[ 0.71330884 -0.20398989 -1.84538401 -0.86811183]\n",
      "i=22\t loss=63.760\t acc=0.0\n",
      " \ttheta=[ 0.70030464 -0.92769099 -1.06239436  0.22666617]\n",
      "i=23\t loss=75.100\t acc=0.0\n",
      " \ttheta=[-0.18995056 -0.39627904 -1.13765721  0.31514892]\n",
      "i=24\t loss=66.990\t acc=0.0\n",
      " \ttheta=[ 0.30557399 -0.43103509 -0.49173161 -0.25569353]\n",
      "i=25\t loss=66.670\t acc=0.01\n",
      " \ttheta=[ 0.40622874 -0.12613839  0.87426219 -0.23466283]\n",
      "i=26\t loss=64.450\t acc=0.0\n",
      " \ttheta=[ 0.96345429  0.32857071 -0.12408106  0.26600397]\n",
      "i=27\t loss=54.990\t acc=0.0\n",
      " \ttheta=[ 1.20944284  0.72517981 -1.14422286  0.08698652]\n",
      "i=28\t loss=66.130\t acc=0.0\n",
      " \ttheta=[ 0.22817194  0.90054101 -1.17443726  0.50544977]\n",
      "i=29\t loss=62.990\t acc=0.0\n",
      " \ttheta=[ 0.41587099  0.07718921 -0.75066746 -0.18652858]\n",
      "i=30\t loss=65.520\t acc=0.0\n",
      " \ttheta=[ 0.55613634 -0.36251864 -1.29316866 -0.35274653]\n",
      "i=31\t loss=72.430\t acc=0.0\n",
      " \ttheta=[ 0.43254169  0.68507586 -0.77670756  0.42890742]\n",
      "i=32\t loss=62.300\t acc=0.0\n",
      " \ttheta=[-0.36382791 -0.01399479 -0.88088181 -0.09751508]\n",
      "i=33\t loss=68.430\t acc=0.0\n",
      " \ttheta=[-0.23142546 -0.52977769 -0.64282991 -0.98083798]\n",
      "i=34\t loss=64.830\t acc=0.0\n",
      " \ttheta=[ 0.56274604  0.09348756 -0.42379886  0.26000057]\n",
      "i=35\t loss=64.050\t acc=0.0\n",
      " \ttheta=[-0.04895061 -0.00281854 -1.32738166 -0.15351848]\n",
      "i=36\t loss=62.060\t acc=0.0\n",
      " \ttheta=[-0.59265401 -0.36680084 -1.22761766  0.06218347]\n",
      "i=37\t loss=59.610\t acc=0.02\n",
      " \ttheta=[-0.93297076  0.12662006 -1.47122321 -0.21706213]\n",
      "i=38\t loss=62.600\t acc=0.0\n",
      " \ttheta=[-0.34368151  0.10767616 -0.92240576  0.12009402]\n",
      "i=39\t loss=66.170\t acc=0.0\n",
      " \ttheta=[-0.42602836  0.25159731 -0.27322546  0.48602817]\n",
      "i=40\t loss=58.980\t acc=0.0\n",
      " \ttheta=[-0.04906736 -0.34959479 -0.49028616 -0.13591488]\n",
      "i=41\t loss=62.920\t acc=0.02\n",
      " \ttheta=[ 0.23617004 -0.15469269  0.91150499  0.25467112]\n",
      "i=42\t loss=59.120\t acc=0.26\n",
      " \ttheta=[-0.19537896 -0.04406799  1.54662939  0.03303982]\n",
      "i=43\t loss=67.110\t acc=0.0\n",
      " \ttheta=[-0.17517126 -0.09041249  0.16731744  0.61067962]\n",
      "i=44\t loss=44.370\t acc=0.01\n",
      " \ttheta=[-0.20226111  0.30604546  0.21857784  0.79782612]\n",
      "i=45\t loss=53.980\t acc=0.0\n",
      " \ttheta=[-0.19719551  0.65385761 -1.06168706  0.81289687]\n",
      "i=46\t loss=70.810\t acc=0.0\n",
      " \ttheta=[ 0.06834794 -0.00657629 -1.05492391  0.11581172]\n",
      "i=47\t loss=66.780\t acc=0.0\n",
      " \ttheta=[-0.33136856 -0.09110324 -0.64861831 -0.15034388]\n",
      "i=48\t loss=63.370\t acc=0.0\n",
      " \ttheta=[ 0.65069419 -0.01383129 -0.65076111 -0.15240963]\n",
      "i=49\t loss=57.600\t acc=0.0\n",
      " \ttheta=[-0.53448521  0.04949876 -0.02234501 -0.21941513]\n",
      "i=50\t loss=63.270\t acc=0.0\n",
      " \ttheta=[ 0.13868929  0.07672066 -0.11450471 -0.34192263]\n",
      "i=51\t loss=65.810\t acc=0.01\n",
      " \ttheta=[ 0.18427369 -0.61473344  0.61480279 -0.02270748]\n",
      "i=52\t loss=82.480\t acc=0.02\n",
      " \ttheta=[ 0.98745774 -0.51616009  0.47859039  0.32368292]\n",
      "i=53\t loss=67.850\t acc=0.33\n",
      " \ttheta=[ 0.54586034 -0.42448644  2.30117674  0.55761082]\n",
      "i=54\t loss=52.870\t acc=0.3\n",
      " \ttheta=[ 0.41382699 -0.65578084  3.31254849  0.23393177]\n",
      "i=55\t loss=42.960\t acc=0.32\n",
      " \ttheta=[ 0.18104244 -0.20436169  2.88001424 -0.97811748]\n",
      "i=56\t loss=43.330\t acc=0.3\n",
      " \ttheta=[-0.22614161 -0.23243004  3.24637859 -0.24572963]\n",
      "i=57\t loss=51.800\t acc=0.32\n",
      " \ttheta=[-0.41581226 -0.13487599  2.49375699  0.03680897]\n",
      "i=58\t loss=59.800\t acc=0.32\n",
      " \ttheta=[-0.15313346 -0.09105689  2.72847764  0.24297472]\n",
      "i=59\t loss=58.470\t acc=0.31\n",
      " \ttheta=[-0.15360531  0.13386596  1.91643024 -0.40497828]\n",
      "i=60\t loss=66.820\t acc=0.28\n",
      " \ttheta=[ 0.50021099  0.05430386  1.50222359 -0.15651948]\n",
      "i=61\t loss=50.220\t acc=0.32\n",
      " \ttheta=[-0.60060966 -0.25378239  2.11469984 -0.58100443]\n",
      "i=62\t loss=71.090\t acc=0.33\n",
      " \ttheta=[0.24949364 0.37197946 2.22261644 0.16325877]\n",
      "i=63\t loss=65.950\t acc=0.32\n",
      " \ttheta=[0.18717664 0.15156971 2.29477679 0.18973157]\n",
      "i=64\t loss=67.450\t acc=0.33\n",
      " \ttheta=[ 0.49603669 -0.28082869  2.06697894  0.77535972]\n",
      "i=65\t loss=45.360\t acc=0.31\n",
      " \ttheta=[-0.44699501 -0.40305409  2.86650529 -0.34862723]\n",
      "i=66\t loss=55.500\t acc=0.27\n",
      " \ttheta=[-0.86049776  0.62784936  2.95246814 -0.20340643]\n",
      "i=67\t loss=64.300\t acc=0.31\n",
      " \ttheta=[-0.96707001  0.02992086  2.13880394  0.13014742]\n",
      "i=68\t loss=78.120\t acc=0.32\n",
      " \ttheta=[-0.06357121 -0.50038649  2.05841839  0.32507362]\n",
      "i=69\t loss=63.880\t acc=0.33\n",
      " \ttheta=[0.78686199 0.31755621 2.72067339 0.30954687]\n",
      "i=70\t loss=41.860\t acc=0.32\n",
      " \ttheta=[ 0.19065404 -0.43056444  2.80383579  0.48766502]\n",
      "i=71\t loss=44.140\t acc=0.32\n",
      " \ttheta=[ 0.27067894  0.30702786  2.92536859 -0.28247943]\n",
      "i=72\t loss=52.030\t acc=0.32\n",
      " \ttheta=[ 0.34527634  0.23771156  3.01659454 -0.46350668]\n",
      "i=73\t loss=33.650\t acc=0.25\n",
      " \ttheta=[-0.53500066  0.43059511  3.43779559 -0.61753723]\n",
      "i=74\t loss=43.430\t acc=0.25\n",
      " \ttheta=[-0.51893201 -0.04682874  3.62445389 -0.71823438]\n",
      "i=75\t loss=43.550\t acc=0.19\n",
      " \ttheta=[ 0.21828874  0.54920086  3.86788609 -0.13573833]\n",
      "i=76\t loss=40.390\t acc=0.23\n",
      " \ttheta=[-0.16015296  0.72097506  3.59054574  0.17118342]\n",
      "i=77\t loss=42.330\t acc=0.31\n",
      " \ttheta=[-1.01261616  0.12869226  2.70239024  1.31971142]\n",
      "i=78\t loss=45.560\t acc=0.19\n",
      " \ttheta=[-0.00412526  0.31442986  3.93554749  0.20886297]\n",
      "i=79\t loss=42.080\t acc=0.32\n",
      " \ttheta=[-0.21795231 -0.00914379  2.99668939  0.44975337]\n",
      "i=80\t loss=43.620\t acc=0.2\n",
      " \ttheta=[-0.27325666 -0.68600699  3.89058924 -0.02172208]\n",
      "i=81\t loss=47.970\t acc=0.3\n",
      " \ttheta=[-0.12494406 -0.73773289  3.25942259 -0.73065858]\n",
      "i=82\t loss=53.990\t acc=0.32\n",
      " \ttheta=[ 0.10929414 -0.05134729  2.75958079 -0.64671223]\n",
      "i=83\t loss=41.720\t acc=0.28\n",
      " \ttheta=[ 0.51803944 -0.23597844  3.41196294  0.33732962]\n",
      "i=84\t loss=44.390\t acc=0.31\n",
      " \ttheta=[-0.86692366 -0.17590209  2.95356344  0.13641587]\n",
      "i=85\t loss=61.930\t acc=0.32\n",
      " \ttheta=[-0.35023141 -0.37796079  2.05868594  1.25869852]\n",
      "i=86\t loss=69.370\t acc=0.21\n",
      " \ttheta=[-0.23845091  0.02319671  1.43258369  0.17252647]\n",
      "i=87\t loss=40.330\t acc=0.28\n",
      " \ttheta=[-0.11982046 -0.23383679  1.67683304  0.26438322]\n",
      "i=88\t loss=56.930\t acc=0.32\n",
      " \ttheta=[-0.80217901 -0.65388179  2.29076209  0.51147562]\n",
      "i=89\t loss=69.480\t acc=0.32\n",
      " \ttheta=[-0.35380656 -0.28565364  2.12666509  0.10011527]\n",
      "i=90\t loss=62.710\t acc=0.32\n",
      " \ttheta=[-0.28431856 -0.51998379  2.73586079  0.49503467]\n",
      "i=91\t loss=42.890\t acc=0.26\n",
      " \ttheta=[-0.06226561 -0.28527159  3.63701734 -0.49499258]\n",
      "i=92\t loss=44.550\t acc=0.19\n",
      " \ttheta=[ 0.82385999  0.54140276  4.02529079 -0.05976533]\n",
      "i=93\t loss=49.530\t acc=0.09\n",
      " \ttheta=[ 0.69243604 -0.01361304  4.48165994 -0.63438068]\n",
      "i=94\t loss=49.900\t acc=0.31\n",
      " \ttheta=[-0.22352746 -0.17672894  3.10670489  0.26896392]\n",
      "i=95\t loss=50.330\t acc=0.32\n",
      " \ttheta=[-0.08980936  0.00343636  2.80363409  0.62885182]\n",
      "i=96\t loss=51.150\t acc=0.32\n",
      " \ttheta=[-0.86454381 -0.44640174  2.36014274  0.78424657]\n",
      "i=97\t loss=61.440\t acc=0.32\n",
      " \ttheta=[-0.59848711 -0.36239274  2.37342564  0.63649637]\n",
      "i=98\t loss=64.760\t acc=0.33\n",
      " \ttheta=[ 0.32298379 -0.07355414  2.27952299  0.47045867]\n",
      "i=99\t loss=54.760\t acc=0.31\n",
      " \ttheta=[1.29922524 0.37079246 2.96181984 0.33906647]\n",
      "i=100\t loss=52.040\t acc=0.32\n",
      " \ttheta=[ 0.53904904  0.12166566  2.77963124 -0.05911033]\n"
     ]
    }
   ],
   "source": [
    "for i in range(100):\n",
    "    \n",
    "    loss_tmp = []\n",
    "    for X_i, Y_i in zip(X_train, Y_train):\n",
    "        pred_int, pred_value = quantum_nn(X_i, theta)\n",
    "        loss_tmp.append(loss(pred_int, Y_i))\n",
    "        theta = theta - eta * gradient(X_i, Y_i, theta) # gradiente descendent\n",
    "\n",
    "    \n",
    "    loss_list.append(np.mean(loss_tmp))\n",
    "    acc = accuracy(X_train, Y_train, theta)\n",
    "\n",
    "    print(f\"i={i+1:2}\\t loss={loss_list[-1]:.3f}\\t acc={acc}\\n \\ttheta={theta}\")"
   ]
  },
  {
   "cell_type": "code",
   "execution_count": null,
   "id": "2d860102-c6e4-4426-9489-9f8f842d82eb",
   "metadata": {},
   "outputs": [],
   "source": []
  }
 ],
 "metadata": {
  "kernelspec": {
   "display_name": "Python 3 (ipykernel)",
   "language": "python",
   "name": "python3"
  },
  "language_info": {
   "codemirror_mode": {
    "name": "ipython",
    "version": 3
   },
   "file_extension": ".py",
   "mimetype": "text/x-python",
   "name": "python",
   "nbconvert_exporter": "python",
   "pygments_lexer": "ipython3",
   "version": "3.10.12"
  }
 },
 "nbformat": 4,
 "nbformat_minor": 5
}
