{
 "cells": [
  {
   "cell_type": "code",
   "execution_count": 1,
   "id": "27bfc8e6-dcbf-4700-91dc-8b522a14fcee",
   "metadata": {},
   "outputs": [],
   "source": [
    "import os\n",
    "import numpy as np"
   ]
  },
  {
   "cell_type": "code",
   "execution_count": 2,
   "id": "991f6c12-b428-4c19-a009-7347e5ed53dc",
   "metadata": {},
   "outputs": [],
   "source": [
    "from qiskit_aer import AerSimulator\n",
    "from qiskit import QuantumCircuit, QuantumRegister, ClassicalRegister"
   ]
  },
  {
   "cell_type": "code",
   "execution_count": 3,
   "id": "dfd0a118-4fbd-487a-ae3c-fae69e098cca",
   "metadata": {},
   "outputs": [
    {
     "name": "stderr",
     "output_type": "stream",
     "text": [
      "2024-03-20 01:34:48.873982: I tensorflow/core/util/port.cc:113] oneDNN custom operations are on. You may see slightly different numerical results due to floating-point round-off errors from different computation orders. To turn them off, set the environment variable `TF_ENABLE_ONEDNN_OPTS=0`.\n",
      "2024-03-20 01:34:48.875180: I external/local_tsl/tsl/cuda/cudart_stub.cc:32] Could not find cuda drivers on your machine, GPU will not be used.\n",
      "2024-03-20 01:34:48.930499: I external/local_tsl/tsl/cuda/cudart_stub.cc:32] Could not find cuda drivers on your machine, GPU will not be used.\n",
      "2024-03-20 01:34:49.207321: I tensorflow/core/platform/cpu_feature_guard.cc:210] This TensorFlow binary is optimized to use available CPU instructions in performance-critical operations.\n",
      "To enable the following instructions: AVX2 AVX_VNNI FMA, in other operations, rebuild TensorFlow with the appropriate compiler flags.\n",
      "2024-03-20 01:34:50.046255: W tensorflow/compiler/tf2tensorrt/utils/py_utils.cc:38] TF-TRT Warning: Could not find TensorRT\n"
     ]
    }
   ],
   "source": [
    "import tensorflow as tf"
   ]
  },
  {
   "cell_type": "code",
   "execution_count": 4,
   "id": "094ac682-02dc-42b7-8b1b-8e8e0e35cdc7",
   "metadata": {},
   "outputs": [],
   "source": [
    "N = 4"
   ]
  },
  {
   "cell_type": "markdown",
   "id": "f092092b-7bde-4f0a-ac6c-29e42dfa0275",
   "metadata": {},
   "source": [
    "# Lendo o DataSet\n",
    "## Treinamento"
   ]
  },
  {
   "cell_type": "code",
   "execution_count": 5,
   "id": "92827d3a-16b9-4292-b358-115877d6e527",
   "metadata": {},
   "outputs": [],
   "source": [
    "def read_graph(filepath):\n",
    "    with open(filepath, \"r\") as f:\n",
    "        line = ''\n",
    "\n",
    "        # Parse number of vertices\n",
    "        while 'DIMENSION' not in line: \n",
    "            line = f.readline()\n",
    "        n = int(line.split()[1])\n",
    "        Ma = np.zeros((N, N), dtype=int)\n",
    "        \n",
    "        # Parse edges\n",
    "        while 'EDGE_DATA_SECTION' not in line: \n",
    "            line = f.readline()\n",
    "        line = f.readline()\n",
    "        while '-1' not in line:\n",
    "            i, j = [int(x) for x in line.split()]\n",
    "            Ma[i - 1, j - 1] = 1  # Subtrai 1 para ajustar para a indexação em Python\n",
    "            line = f.readline()\n",
    "        \n",
    "        # Parse diff edge\n",
    "        while 'DIFF_EDGE' not in line: \n",
    "            line = f.readline()\n",
    "        diff_edge = [int(x) for x in f.readline().split()]\n",
    "\n",
    "        # Parse target cost\n",
    "        while 'CHROM_NUMBER' not in line: \n",
    "            line = f.readline()\n",
    "        chrom_number = int(f.readline().strip())\n",
    "\n",
    "    return Ma, chrom_number"
   ]
  },
  {
   "cell_type": "code",
   "execution_count": 6,
   "id": "3ac41b72-f5d9-48be-8a45-ecddcb2078f8",
   "metadata": {},
   "outputs": [
    {
     "name": "stdout",
     "output_type": "stream",
     "text": [
      "X_train dim: 3\t y_train dim: 1\n"
     ]
    }
   ],
   "source": [
    "X_train = []\n",
    "y_train = []\n",
    "\n",
    "for filename in os.listdir(f'qrnn-{N}-training'):\n",
    "    # Ma,chrom_number,diff_edge = read_graph(\"{}{}\".format('qrnn-training-5/',filename))\n",
    "    Ma,chrom_number = read_graph(f\"qrnn-{N}-training/{filename}\")\n",
    "    X_train.append(Ma)\n",
    "    y_train.append(chrom_number)\n",
    "\n",
    "X_train = np.stack(X_train)\n",
    "y_train = np.stack(y_train)\n",
    "\n",
    "print(f\"X_train dim: {X_train.ndim}\\t y_train dim: {y_train.ndim}\")"
   ]
  },
  {
   "cell_type": "markdown",
   "id": "94ab92b1-7a3e-4d03-8f63-73f2fee12ed5",
   "metadata": {},
   "source": [
    "## Teste"
   ]
  },
  {
   "cell_type": "code",
   "execution_count": 7,
   "id": "59accc8a-e5a3-459e-9897-958090745a97",
   "metadata": {},
   "outputs": [
    {
     "name": "stdout",
     "output_type": "stream",
     "text": [
      "X_test dim: 3\t y_test dim: 1\n"
     ]
    }
   ],
   "source": [
    "X_test = []\n",
    "y_test = []\n",
    "\n",
    "for filename in os.listdir(f'qrnn-{N}-testing'):\n",
    "    Ma,chrom_number = read_graph(f\"qrnn-{N}-testing/{filename}\")\n",
    "    X_test.append(Ma)\n",
    "    y_test.append(chrom_number)\n",
    "\n",
    "X_test = np.stack(X_test)\n",
    "y_test = np.stack(y_test)\n",
    "\n",
    "print(f\"X_test dim: {X_test.ndim}\\t y_test dim: {y_test.ndim}\")"
   ]
  },
  {
   "cell_type": "markdown",
   "id": "9a36ca92-7ba0-4a41-a062-5ce7bb86663c",
   "metadata": {},
   "source": [
    "### Imprimir dados "
   ]
  },
  {
   "cell_type": "code",
   "execution_count": 8,
   "id": "387c507d-85b7-42c6-95a9-044cc087beb3",
   "metadata": {},
   "outputs": [
    {
     "name": "stdout",
     "output_type": "stream",
     "text": [
      "Treinamento:\n",
      "\t[4 4 3 4 3 3 2 3 3 3 2 3 3 3 4 2 3 2 3 3 3 3 2 3 4 3 4 3 3 2 3 3 3 3 4 3 4\n",
      " 3 3 3 3 3 3 2 3 2 3 3 3 4 3 3 3 3 2 3 4 3 3 2 4 3 3 4 2 2 3 3 3 3 4 3 3 4\n",
      " 3 3 4 4 3 3 3 3 2 3 3 3 3 3 2 3 2 2 4 4 3 3 2 4 2 3 3 3 2 2 4 3 2 3 4 3 3\n",
      " 3 3 3 2 3 3 3 3 3 3 3 4 2 3 3 4 3 4 3 2 3 3 4 3 4 3 3 3 4 3 3 4 4 3 2 3 2\n",
      " 3 3 2 2 3 3 3 3 4 3 2 2 3 3 3 3 3 3 3 2 3 3 3 3 2 3 2 3 2 3 3 4 3 3 2 3 3\n",
      " 2 4 3 4 3 2 3 3 3 2 3 3 2 4 3 2 3 3 4 3 2 3 3 4 4 4 3 2 3 3 2 4 3 3 3 3 3\n",
      " 2 2 3 2 3 4 3 3 3 3 4 2 3 3 4 2 3 2 2 3 2 3 3 3 4 3 3 3 3 4 3 3 3 2 3 2 3\n",
      " 3 3 4 3 3 2 4 3 3 3 3 3 3 3 4 3 3 3 3 2 3 3 3 3 2 3 3 3 2 3 3 3 3 2 4 3 2\n",
      " 2 2 3 3 4 2 4 3 3 4 2 2 3 3 3 3 3 3 3 4 3 2 3 3 3 2 3 3 2 2 3 3 3 4 4 3 2\n",
      " 3 2 3 3 3 3 2 3 3 2 4 4 3 3 2 2 3 3 2 3 2 3 3 3 3 2 2 4 3 3 3 3 2 3 3 4 3\n",
      " 3 4 2 3 2 3 2 4 3 3 4 2 3 4 3 3 2 2 4 3 3 2 3 3 4 3 3 3 3 3 3 3 3 3 3 3 3\n",
      " 3 3 3 3 3 3 3 3 3 3 3 4 3 2 3 3 2 3 4 4 3 4 4 4 2 2 2 3 3 2 3 3 2 3 4 1 2\n",
      " 4 3 2 3 3 3 2 3 2 4 3 3 4 3 3 4 4 3 2 4 3 4 2 4 3 3 4 3 3 3 4 2 4 3 3 3 3\n",
      " 3 3 3 3 3 3 3 3 3 3 3 3 4 4 4 3 3 2 3 4 2 3 3 2 3 3 3 3 3 3 2 3 4 2 4 3 3\n",
      " 4 3 2 3 3 3 3 3 4 3 3 2 2 3 3 2 3 3 2 3 2 2 2 3 3 3 3 2 3 3 2 4 3 2 2 4 4\n",
      " 2 3 3 2 2 3 2 3 3 3 3 4 3 3 3 3 4 3 4 3 2 3 3 2 3 3 2]\n",
      "\n",
      "Teste:\n",
      "\t[2]\n"
     ]
    }
   ],
   "source": [
    "print(f\"Treinamento:\\n\\t{y_train}\\n\\nTeste:\\n\\t{y_test}\")"
   ]
  },
  {
   "cell_type": "markdown",
   "id": "428a19af-b1d6-46c8-bebd-61467388a4ca",
   "metadata": {},
   "source": [
    "# Funções auxiliares"
   ]
  },
  {
   "cell_type": "markdown",
   "id": "2c63eb8b-c29d-464c-b286-e7ee64bae488",
   "metadata": {},
   "source": [
    "### Numero Binário para Inteiro"
   ]
  },
  {
   "cell_type": "code",
   "execution_count": 9,
   "id": "c682faa9-9184-4c0c-8918-dc540965ef31",
   "metadata": {},
   "outputs": [],
   "source": [
    "def binary2int(key):\n",
    "    if not isinstance(key, str):\n",
    "        key = str(key)\n",
    "\n",
    "    return int(key, 2)"
   ]
  },
  {
   "cell_type": "markdown",
   "id": "c2bc182b-f423-4b8c-9288-976d29ce3216",
   "metadata": {},
   "source": [
    "### Quantidade de Bits necessária para registrar um número inteiro"
   ]
  },
  {
   "cell_type": "code",
   "execution_count": 10,
   "id": "fc4ef95e-b41f-4254-8fd8-7832c6dd3de5",
   "metadata": {},
   "outputs": [],
   "source": [
    "def bit_length(number):\n",
    "    if not isinstance(number, int):\n",
    "        number = int(number)\n",
    "\n",
    "    return (number).bit_length()"
   ]
  },
  {
   "cell_type": "code",
   "execution_count": 21,
   "id": "08e38a47-af09-4e60-a42d-0b82e674e2ff",
   "metadata": {},
   "outputs": [],
   "source": [
    "def max_value(dic):\n",
    "    max_key = max(dic, key=dic.get)\n",
    "\n",
    "    max_value = dic[max_key]\n",
    "\n",
    "    return max_key, max_value"
   ]
  },
  {
   "cell_type": "markdown",
   "id": "a3a418fb-f9b9-4315-a6fd-b3806139f9ad",
   "metadata": {},
   "source": [
    "# Construção da Camada Quântica"
   ]
  },
  {
   "cell_type": "markdown",
   "id": "7ca699bb-3cc4-4fd3-8ec9-393d2ea819ec",
   "metadata": {},
   "source": [
    "## Função de Codificação de informação clássico-quântico"
   ]
  },
  {
   "cell_type": "code",
   "execution_count": null,
   "id": "bec1dbaa-0593-4a8f-83e1-12a6ec374963",
   "metadata": {},
   "outputs": [],
   "source": [
    "def feature_map(inputs, bit_length_response):\n",
    "\n",
    "    qReg = QuantumRegister(len(inputs))\n",
    "    cReg = ClassicalRegister(bit_length_response)\n",
    "    qc = QuantumCircuit(qReg, cReg)\n",
    "    \n",
    "    for i, x in enumerate(inputs):\n",
    "        qc.rx(x, i)\n",
    "    \n",
    "    qc.barrier()\n",
    "    \n",
    "    return qc, cReg"
   ]
  },
  {
   "cell_type": "markdown",
   "id": "7f656bb4-9126-4ca7-9fb3-d13147115dfa",
   "metadata": {},
   "source": [
    "## Função de Variação (Aprendizado)"
   ]
  },
  {
   "cell_type": "code",
   "execution_count": 12,
   "id": "b96ecca8-4c0f-4633-97f3-54b90412f090",
   "metadata": {},
   "outputs": [],
   "source": [
    "def variational_circuit(qc, theta, inputs):\n",
    "\n",
    "    qbits = len(inputs) - 1\n",
    "    for i in range(qbits):\n",
    "        qc.cx(i, i+1)\n",
    "\n",
    "    qc.cx(qbits, 0)\n",
    "\n",
    "    qc.barrier()\n",
    "    \n",
    "    for i in range(len(inputs)):\n",
    "        qc.ry(theta[i], i)\n",
    "    qc.barrier()\n",
    "\n",
    "    return qc"
   ]
  },
  {
   "cell_type": "markdown",
   "id": "0e9975dc-cf13-44ec-b896-5ec72eee6eed",
   "metadata": {},
   "source": [
    "## Função de implementação de mensuração "
   ]
  },
  {
   "cell_type": "code",
   "execution_count": 13,
   "id": "52b4c0f2-1e09-46df-9fd9-d094a14e1ac4",
   "metadata": {},
   "outputs": [],
   "source": [
    "def measure(qc, bit_length_response):\n",
    "    for i in range(bit_length_response):\n",
    "        qc.measure(i, c[i])\n",
    "\n",
    "    return qc"
   ]
  },
  {
   "cell_type": "markdown",
   "id": "dea183f7-bc92-4977-a46f-e435d8fa022d",
   "metadata": {},
   "source": [
    "### Apresentação gráfica da Rede Quântica"
   ]
  },
  {
   "cell_type": "code",
   "execution_count": 14,
   "id": "4c81d822-d23d-4a01-9a19-51edc081e01a",
   "metadata": {},
   "outputs": [
    {
     "data": {
      "image/png": "[encoded data removed]",
      "text/plain": [
       "<Figure size 1058.23x451.5 with 1 Axes>"
      ]
     },
     "execution_count": 14,
     "metadata": {},
     "output_type": "execute_result"
    }
   ],
   "source": [
    "# entradas\n",
    "theta = np.random.rand(N)\n",
    "inputs = np.random.rand(N,N)[-1]\n",
    "reg = bit_length(len(inputs)-1)\n",
    "\n",
    "# construção da rede quântica\n",
    "qc, c = feature_map(inputs, reg)\n",
    "qc = variational_circuit(qc, theta, inputs)\n",
    "qc = measure(qc, reg)\n",
    "\n",
    "# imagem da rede quântica\n",
    "qc.draw('mpl')"
   ]
  },
  {
   "cell_type": "markdown",
   "id": "2b707f0b-b14f-4d8c-8af0-5174718458da",
   "metadata": {},
   "source": [
    "### Camada Quântica ("
   ]
  },
  {
   "cell_type": "code",
   "execution_count": 109,
   "id": "fd556091-b66b-455d-b752-86ce4c5c7668",
   "metadata": {},
   "outputs": [],
   "source": [
    "class QuantumLayer(tf.keras.layers.Layer):\n",
    "    def __init__(self, bit_length_response, shots=1E4, **kwargs):\n",
    "        super(QuantumLayer, self).__init__(**kwargs)\n",
    "        self.bit_length_response = bit_length_response\n",
    "        self.shots = shots\n",
    "\n",
    "    def build(self, input_shape):\n",
    "        self.N = input_shape[-1]\n",
    "        self.n_response = bit_length(self.bit_length_response) # self.bit_length_response\n",
    "        self.theta = self.add_weight(name='theta', shape=(self.N,), initializer='random_normal', trainable=True)\n",
    "\n",
    "    def call(self, inputs):\n",
    "        print(f\"Inputs: {inputs}\")\n",
    "        if tf.executing_eagerly():\n",
    "            qc, cReg = feature_map(inputs, self.bit_length_response)\n",
    "            qc = variational_circuit(qc, self.theta, inputs)\n",
    "    \n",
    "            for i in range(self.bit_length_response):\n",
    "                qc.measure(i, cReg[i])\n",
    "    \n",
    "            results = AerSimulator().run(qc, shots=self.shots, memory=True).result()\n",
    "            counts = results.get_counts(qc)\n",
    "    \n",
    "            stats = {}\n",
    "            for key, value in counts.items():\n",
    "                stats[binary2int(key)] = value / self.shots\n",
    "    \n",
    "            ordened_stats = sorted(stats, key=stats.get)\n",
    "    \n",
    "            ordened_results = []\n",
    "            for key in ordened_stats:\n",
    "                ordened_results.append(stats[key])\n",
    "    \n",
    "            max_key, max_value = max_value(ordened_stats)\n",
    "    \n",
    "            print(f\"Key: {max_key}\")\n",
    "            return max_key\n",
    "\n",
    "        return inputs\n",
    "\n",
    "    def get_config(self):\n",
    "        config = super(QuantumLayer, self).get_config()\n",
    "        config.update({\n",
    "            'bit_length_response': self.bit_length_response,\n",
    "            'shots': self.shots,\n",
    "        })\n",
    "        return config\n",
    "        "
   ]
  },
  {
   "cell_type": "code",
   "execution_count": 110,
   "id": "e2cd51b4-2ebf-4fa0-b2dd-ccba609ea3ed",
   "metadata": {},
   "outputs": [
    {
     "name": "stdout",
     "output_type": "stream",
     "text": [
      "Inputs: Tensor(\"Placeholder:0\", shape=(None, 4), dtype=float32)\n"
     ]
    },
    {
     "ename": "TypeError",
     "evalue": "Exception encountered when calling QuantumLayer.call().\n\n\u001b[1m'SymbolicTensor' object cannot be interpreted as an integer\u001b[0m\n\nArguments received by QuantumLayer.call():\n  • args=('<KerasTensor shape=(None, 4), dtype=float32, sparse=False, name=keras_tensor_96>',)\n  • kwargs=<class 'inspect._empty'>",
     "output_type": "error",
     "traceback": [
      "\u001b[0;31m---------------------------------------------------------------------------\u001b[0m",
      "\u001b[0;31mTypeError\u001b[0m                                 Traceback (most recent call last)",
      "Cell \u001b[0;32mIn[110], line 2\u001b[0m\n\u001b[1;32m      1\u001b[0m \u001b[38;5;66;03m# Exemplo de uso da camada personalizada em um modelo\u001b[39;00m\n\u001b[0;32m----> 2\u001b[0m model \u001b[38;5;241m=\u001b[39m \u001b[43mtf\u001b[49m\u001b[38;5;241;43m.\u001b[39;49m\u001b[43mkeras\u001b[49m\u001b[38;5;241;43m.\u001b[39;49m\u001b[43mSequential\u001b[49m\u001b[43m(\u001b[49m\u001b[43m[\u001b[49m\n\u001b[1;32m      3\u001b[0m \u001b[43m    \u001b[49m\u001b[43mtf\u001b[49m\u001b[38;5;241;43m.\u001b[39;49m\u001b[43mkeras\u001b[49m\u001b[38;5;241;43m.\u001b[39;49m\u001b[43mlayers\u001b[49m\u001b[38;5;241;43m.\u001b[39;49m\u001b[43mInput\u001b[49m\u001b[43m(\u001b[49m\u001b[43mshape\u001b[49m\u001b[38;5;241;43m=\u001b[39;49m\u001b[43m(\u001b[49m\u001b[43mN\u001b[49m\u001b[43m,\u001b[49m\u001b[43m \u001b[49m\u001b[43mN\u001b[49m\u001b[43m)\u001b[49m\u001b[43m)\u001b[49m\u001b[43m,\u001b[49m\n\u001b[1;32m      4\u001b[0m \u001b[43m    \u001b[49m\u001b[43mtf\u001b[49m\u001b[38;5;241;43m.\u001b[39;49m\u001b[43mkeras\u001b[49m\u001b[38;5;241;43m.\u001b[39;49m\u001b[43mlayers\u001b[49m\u001b[38;5;241;43m.\u001b[39;49m\u001b[43mFlatten\u001b[49m\u001b[43m(\u001b[49m\u001b[43minput_shape\u001b[49m\u001b[38;5;241;43m=\u001b[39;49m\u001b[43m(\u001b[49m\u001b[43mN\u001b[49m\u001b[43m,\u001b[49m\u001b[43m \u001b[49m\u001b[43mN\u001b[49m\u001b[43m)\u001b[49m\u001b[43m)\u001b[49m\u001b[43m,\u001b[49m\n\u001b[1;32m      5\u001b[0m \u001b[43m    \u001b[49m\u001b[43mtf\u001b[49m\u001b[38;5;241;43m.\u001b[39;49m\u001b[43mkeras\u001b[49m\u001b[38;5;241;43m.\u001b[39;49m\u001b[43mlayers\u001b[49m\u001b[38;5;241;43m.\u001b[39;49m\u001b[43mDense\u001b[49m\u001b[43m(\u001b[49m\u001b[43mN\u001b[49m\u001b[43m,\u001b[49m\u001b[43m \u001b[49m\u001b[43mactivation\u001b[49m\u001b[38;5;241;43m=\u001b[39;49m\u001b[38;5;124;43m'\u001b[39;49m\u001b[38;5;124;43mrelu\u001b[39;49m\u001b[38;5;124;43m'\u001b[39;49m\u001b[43m)\u001b[49m\u001b[43m,\u001b[49m\n\u001b[1;32m      6\u001b[0m \u001b[43m    \u001b[49m\u001b[43mQuantumLayer\u001b[49m\u001b[43m(\u001b[49m\u001b[43mN\u001b[49m\u001b[43m)\u001b[49m\u001b[43m,\u001b[49m\n\u001b[1;32m      7\u001b[0m \u001b[43m    \u001b[49m\u001b[43mtf\u001b[49m\u001b[38;5;241;43m.\u001b[39;49m\u001b[43mkeras\u001b[49m\u001b[38;5;241;43m.\u001b[39;49m\u001b[43mlayers\u001b[49m\u001b[38;5;241;43m.\u001b[39;49m\u001b[43mDense\u001b[49m\u001b[43m(\u001b[49m\u001b[43mN\u001b[49m\u001b[38;5;241;43m+\u001b[39;49m\u001b[38;5;241;43m1\u001b[39;49m\u001b[43m)\u001b[49m\n\u001b[1;32m      8\u001b[0m \u001b[43m]\u001b[49m\u001b[43m)\u001b[49m\n",
      "File \u001b[0;32m/usr/local/lib/python3.12/site-packages/keras/src/models/sequential.py:71\u001b[0m, in \u001b[0;36mSequential.__init__\u001b[0;34m(self, layers, trainable, name)\u001b[0m\n\u001b[1;32m     69\u001b[0m \u001b[38;5;28;01mfor\u001b[39;00m layer \u001b[38;5;129;01min\u001b[39;00m layers:\n\u001b[1;32m     70\u001b[0m     \u001b[38;5;28mself\u001b[39m\u001b[38;5;241m.\u001b[39madd(layer, rebuild\u001b[38;5;241m=\u001b[39m\u001b[38;5;28;01mFalse\u001b[39;00m)\n\u001b[0;32m---> 71\u001b[0m \u001b[38;5;28;43mself\u001b[39;49m\u001b[38;5;241;43m.\u001b[39;49m\u001b[43m_maybe_rebuild\u001b[49m\u001b[43m(\u001b[49m\u001b[43m)\u001b[49m\n",
      "File \u001b[0;32m/usr/local/lib/python3.12/site-packages/keras/src/models/sequential.py:136\u001b[0m, in \u001b[0;36mSequential._maybe_rebuild\u001b[0;34m(self)\u001b[0m\n\u001b[1;32m    134\u001b[0m \u001b[38;5;28;01mif\u001b[39;00m \u001b[38;5;28misinstance\u001b[39m(\u001b[38;5;28mself\u001b[39m\u001b[38;5;241m.\u001b[39m_layers[\u001b[38;5;241m0\u001b[39m], InputLayer) \u001b[38;5;129;01mand\u001b[39;00m \u001b[38;5;28mlen\u001b[39m(\u001b[38;5;28mself\u001b[39m\u001b[38;5;241m.\u001b[39m_layers) \u001b[38;5;241m>\u001b[39m \u001b[38;5;241m1\u001b[39m:\n\u001b[1;32m    135\u001b[0m     input_shape \u001b[38;5;241m=\u001b[39m \u001b[38;5;28mself\u001b[39m\u001b[38;5;241m.\u001b[39m_layers[\u001b[38;5;241m0\u001b[39m]\u001b[38;5;241m.\u001b[39mbatch_shape\n\u001b[0;32m--> 136\u001b[0m     \u001b[38;5;28;43mself\u001b[39;49m\u001b[38;5;241;43m.\u001b[39;49m\u001b[43mbuild\u001b[49m\u001b[43m(\u001b[49m\u001b[43minput_shape\u001b[49m\u001b[43m)\u001b[49m\n",
      "File \u001b[0;32m/usr/local/lib/python3.12/site-packages/keras/src/layers/layer.py:224\u001b[0m, in \u001b[0;36mLayer.__new__.<locals>.build_wrapper\u001b[0;34m(*args, **kwargs)\u001b[0m\n\u001b[1;32m    221\u001b[0m \u001b[38;5;129m@wraps\u001b[39m(original_build_method)\n\u001b[1;32m    222\u001b[0m \u001b[38;5;28;01mdef\u001b[39;00m \u001b[38;5;21mbuild_wrapper\u001b[39m(\u001b[38;5;241m*\u001b[39margs, \u001b[38;5;241m*\u001b[39m\u001b[38;5;241m*\u001b[39mkwargs):\n\u001b[1;32m    223\u001b[0m     \u001b[38;5;28;01mwith\u001b[39;00m backend\u001b[38;5;241m.\u001b[39mname_scope(obj\u001b[38;5;241m.\u001b[39mname, caller\u001b[38;5;241m=\u001b[39mobj):\n\u001b[0;32m--> 224\u001b[0m         \u001b[43moriginal_build_method\u001b[49m\u001b[43m(\u001b[49m\u001b[38;5;241;43m*\u001b[39;49m\u001b[43margs\u001b[49m\u001b[43m,\u001b[49m\u001b[43m \u001b[49m\u001b[38;5;241;43m*\u001b[39;49m\u001b[38;5;241;43m*\u001b[39;49m\u001b[43mkwargs\u001b[49m\u001b[43m)\u001b[49m\n\u001b[1;32m    225\u001b[0m     \u001b[38;5;66;03m# Record build config.\u001b[39;00m\n\u001b[1;32m    226\u001b[0m     signature \u001b[38;5;241m=\u001b[39m inspect\u001b[38;5;241m.\u001b[39msignature(original_build_method)\n",
      "File \u001b[0;32m/usr/local/lib/python3.12/site-packages/keras/src/models/sequential.py:196\u001b[0m, in \u001b[0;36mSequential.build\u001b[0;34m(self, input_shape)\u001b[0m\n\u001b[1;32m    189\u001b[0m         \u001b[38;5;28;01mif\u001b[39;00m \u001b[38;5;28mlen\u001b[39m(positional_args) \u001b[38;5;241m!=\u001b[39m \u001b[38;5;241m1\u001b[39m:\n\u001b[1;32m    190\u001b[0m             \u001b[38;5;28;01mraise\u001b[39;00m \u001b[38;5;167;01mValueError\u001b[39;00m(\n\u001b[1;32m    191\u001b[0m                 \u001b[38;5;124m\"\u001b[39m\u001b[38;5;124mLayers added to a Sequential model \u001b[39m\u001b[38;5;124m\"\u001b[39m\n\u001b[1;32m    192\u001b[0m                 \u001b[38;5;124m\"\u001b[39m\u001b[38;5;124mcan only have a single positional argument, \u001b[39m\u001b[38;5;124m\"\u001b[39m\n\u001b[1;32m    193\u001b[0m                 \u001b[38;5;124mf\u001b[39m\u001b[38;5;124m\"\u001b[39m\u001b[38;5;124mthe input tensor. Layer \u001b[39m\u001b[38;5;132;01m{\u001b[39;00mlayer\u001b[38;5;241m.\u001b[39m\u001b[38;5;18m__class__\u001b[39m\u001b[38;5;241m.\u001b[39m\u001b[38;5;18m__name__\u001b[39m\u001b[38;5;132;01m}\u001b[39;00m\u001b[38;5;124m \u001b[39m\u001b[38;5;124m\"\u001b[39m\n\u001b[1;32m    194\u001b[0m                 \u001b[38;5;124mf\u001b[39m\u001b[38;5;124m\"\u001b[39m\u001b[38;5;124mhas multiple positional arguments: \u001b[39m\u001b[38;5;132;01m{\u001b[39;00mpositional_args\u001b[38;5;132;01m}\u001b[39;00m\u001b[38;5;124m\"\u001b[39m\n\u001b[1;32m    195\u001b[0m             )\n\u001b[0;32m--> 196\u001b[0m         \u001b[38;5;28;01mraise\u001b[39;00m e\n\u001b[1;32m    197\u001b[0m outputs \u001b[38;5;241m=\u001b[39m x\n\u001b[1;32m    198\u001b[0m \u001b[38;5;28mself\u001b[39m\u001b[38;5;241m.\u001b[39m_functional \u001b[38;5;241m=\u001b[39m Functional(inputs\u001b[38;5;241m=\u001b[39minputs, outputs\u001b[38;5;241m=\u001b[39moutputs)\n",
      "File \u001b[0;32m/usr/local/lib/python3.12/site-packages/keras/src/models/sequential.py:177\u001b[0m, in \u001b[0;36mSequential.build\u001b[0;34m(self, input_shape)\u001b[0m\n\u001b[1;32m    175\u001b[0m \u001b[38;5;28;01mfor\u001b[39;00m layer \u001b[38;5;129;01min\u001b[39;00m \u001b[38;5;28mself\u001b[39m\u001b[38;5;241m.\u001b[39m_layers[\u001b[38;5;241m1\u001b[39m:]:\n\u001b[1;32m    176\u001b[0m     \u001b[38;5;28;01mtry\u001b[39;00m:\n\u001b[0;32m--> 177\u001b[0m         x \u001b[38;5;241m=\u001b[39m \u001b[43mlayer\u001b[49m\u001b[43m(\u001b[49m\u001b[43mx\u001b[49m\u001b[43m)\u001b[49m\n\u001b[1;32m    178\u001b[0m     \u001b[38;5;28;01mexcept\u001b[39;00m \u001b[38;5;167;01mNotImplementedError\u001b[39;00m:\n\u001b[1;32m    179\u001b[0m         \u001b[38;5;66;03m# Can happen if shape inference is not implemented.\u001b[39;00m\n\u001b[1;32m    180\u001b[0m         \u001b[38;5;66;03m# TODO: consider reverting inbound nodes on layers processed.\u001b[39;00m\n\u001b[1;32m    181\u001b[0m         \u001b[38;5;28;01mreturn\u001b[39;00m\n",
      "File \u001b[0;32m/usr/local/lib/python3.12/site-packages/keras/src/utils/traceback_utils.py:123\u001b[0m, in \u001b[0;36mfilter_traceback.<locals>.error_handler\u001b[0;34m(*args, **kwargs)\u001b[0m\n\u001b[1;32m    120\u001b[0m     filtered_tb \u001b[38;5;241m=\u001b[39m _process_traceback_frames(e\u001b[38;5;241m.\u001b[39m__traceback__)\n\u001b[1;32m    121\u001b[0m     \u001b[38;5;66;03m# To get the full stack trace, call:\u001b[39;00m\n\u001b[1;32m    122\u001b[0m     \u001b[38;5;66;03m# `keras.config.disable_traceback_filtering()`\u001b[39;00m\n\u001b[0;32m--> 123\u001b[0m     \u001b[38;5;28;01mraise\u001b[39;00m e\u001b[38;5;241m.\u001b[39mwith_traceback(filtered_tb) \u001b[38;5;28;01mfrom\u001b[39;00m \u001b[38;5;28;01mNone\u001b[39;00m\n\u001b[1;32m    124\u001b[0m \u001b[38;5;28;01mfinally\u001b[39;00m:\n\u001b[1;32m    125\u001b[0m     \u001b[38;5;28;01mdel\u001b[39;00m filtered_tb\n",
      "Cell \u001b[0;32mIn[109], line 15\u001b[0m, in \u001b[0;36mQuantumLayer.call\u001b[0;34m(self, inputs)\u001b[0m\n\u001b[1;32m     13\u001b[0m \u001b[38;5;28mprint\u001b[39m(\u001b[38;5;124mf\u001b[39m\u001b[38;5;124m\"\u001b[39m\u001b[38;5;124mInputs: \u001b[39m\u001b[38;5;132;01m{\u001b[39;00minputs\u001b[38;5;132;01m}\u001b[39;00m\u001b[38;5;124m\"\u001b[39m)\n\u001b[1;32m     14\u001b[0m \u001b[38;5;66;03m# if tf.executing_eagerly():\u001b[39;00m\n\u001b[0;32m---> 15\u001b[0m qc, cReg \u001b[38;5;241m=\u001b[39m \u001b[43mfeature_map\u001b[49m\u001b[43m(\u001b[49m\u001b[43minputs\u001b[49m\u001b[43m,\u001b[49m\u001b[43m \u001b[49m\u001b[38;5;28;43mself\u001b[39;49m\u001b[38;5;241;43m.\u001b[39;49m\u001b[43mbit_length_response\u001b[49m\u001b[43m)\u001b[49m\n\u001b[1;32m     16\u001b[0m qc \u001b[38;5;241m=\u001b[39m variational_circuit(qc, \u001b[38;5;28mself\u001b[39m\u001b[38;5;241m.\u001b[39mtheta, inputs)\n\u001b[1;32m     18\u001b[0m \u001b[38;5;66;03m# for i in range(self.bit_length_response):\u001b[39;00m\n\u001b[1;32m     19\u001b[0m \u001b[38;5;66;03m# for i in range(bit_length(self.N)):\u001b[39;00m\n\u001b[1;32m     20\u001b[0m \u001b[38;5;66;03m#     qc.measure(i, cReg[i])\u001b[39;00m\n\u001b[1;32m     21\u001b[0m \n\u001b[1;32m     22\u001b[0m \u001b[38;5;66;03m# results = AerSimulator().run(qc, shots=self.shots, memory=True).result()\u001b[39;00m\n\u001b[1;32m     23\u001b[0m \u001b[38;5;66;03m# counts = results.get_counts(qc)\u001b[39;00m\n",
      "Cell \u001b[0;32mIn[106], line 8\u001b[0m, in \u001b[0;36mfeature_map\u001b[0;34m(inputs, bit_length_response)\u001b[0m\n\u001b[1;32m      5\u001b[0m cReg \u001b[38;5;241m=\u001b[39m ClassicalRegister(bit_length_response)\n\u001b[1;32m      6\u001b[0m qc \u001b[38;5;241m=\u001b[39m QuantumCircuit(qReg, cReg)\n\u001b[0;32m----> 8\u001b[0m \u001b[38;5;28;01mfor\u001b[39;00m i \u001b[38;5;129;01min\u001b[39;00m \u001b[38;5;28;43mrange\u001b[39;49m\u001b[43m(\u001b[49m\u001b[43mbatch_size\u001b[49m\u001b[43m)\u001b[49m:\n\u001b[1;32m      9\u001b[0m     qReg\u001b[38;5;241m.\u001b[39madd_register(QuantumRegister(\u001b[38;5;241m1\u001b[39m))\n\u001b[1;32m     10\u001b[0m     qc\u001b[38;5;241m.\u001b[39mrx(inputs[i], i)\n",
      "\u001b[0;31mTypeError\u001b[0m: Exception encountered when calling QuantumLayer.call().\n\n\u001b[1m'SymbolicTensor' object cannot be interpreted as an integer\u001b[0m\n\nArguments received by QuantumLayer.call():\n  • args=('<KerasTensor shape=(None, 4), dtype=float32, sparse=False, name=keras_tensor_96>',)\n  • kwargs=<class 'inspect._empty'>"
     ]
    }
   ],
   "source": [
    "# Exemplo de uso da camada personalizada em um modelo\n",
    "model = tf.keras.Sequential([\n",
    "    tf.keras.layers.Input(shape=(N, N)),\n",
    "    tf.keras.layers.Flatten(input_shape=(N, N)),\n",
    "    tf.keras.layers.Dense(N, activation='relu'),\n",
    "    QuantumLayer(N),\n",
    "    tf.keras.layers.Dense(N+1)\n",
    "])"
   ]
  },
  {
   "cell_type": "code",
   "execution_count": 55,
   "id": "825adeb6-189d-4d96-929c-82f6d7d5e358",
   "metadata": {},
   "outputs": [],
   "source": [
    "model.build()"
   ]
  },
  {
   "cell_type": "code",
   "execution_count": 56,
   "id": "e23ce2d3-6c92-440c-b0f1-4ee9835522f8",
   "metadata": {},
   "outputs": [],
   "source": [
    "#### Compilando o modelo\n",
    "model.compile(optimizer='adam',\n",
    "              loss=tf.keras.losses.SparseCategoricalCrossentropy(from_logits=True),\n",
    "              metrics=['accuracy'])\n"
   ]
  },
  {
   "cell_type": "markdown",
   "id": "9fac7ab6-f59a-451d-9887-a3b69882f346",
   "metadata": {},
   "source": [
    "# Plotar grafico de Épocas x Acurácia"
   ]
  },
  {
   "cell_type": "code",
   "execution_count": 57,
   "id": "25c49a83-bb11-40c6-bc29-3dec3b5554b5",
   "metadata": {},
   "outputs": [],
   "source": [
    "epochs = 50"
   ]
  },
  {
   "cell_type": "code",
   "execution_count": 58,
   "id": "1afee321-8167-4a4a-bf8c-ebcd65db09c1",
   "metadata": {},
   "outputs": [
    {
     "name": "stdout",
     "output_type": "stream",
     "text": [
      "Epoch 1/50\n",
      "Inputs: Tensor(\"sequential_6_1/dense_8_1/Relu:0\", shape=(None, 4), dtype=float32)\n",
      "Inputs: Tensor(\"sequential_6_1/dense_8_1/Relu:0\", shape=(None, 4), dtype=float32)\n",
      "\u001b[1m 1/19\u001b[0m \u001b[32m━\u001b[0m\u001b[37m━━━━━━━━━━━━━━━━━━━\u001b[0m \u001b[1m11s\u001b[0m 649ms/step - accuracy: 0.1250 - loss: 2.0168Inputs: Tensor(\"sequential_6_1/dense_8_1/Relu:0\", shape=(None, 4), dtype=float32)\n",
      "\u001b[1m19/19\u001b[0m \u001b[32m━━━━━━━━━━━━━━━━━━━━\u001b[0m\u001b[37m\u001b[0m \u001b[1m1s\u001b[0m 9ms/step - accuracy: 0.1698 - loss: 1.8604 - val_accuracy: 0.0000e+00 - val_loss: 2.9329\n",
      "Epoch 2/50\n",
      "\u001b[1m19/19\u001b[0m \u001b[32m━━━━━━━━━━━━━━━━━━━━\u001b[0m\u001b[37m\u001b[0m \u001b[1m0s\u001b[0m 3ms/step - accuracy: 0.2345 - loss: 1.7326 - val_accuracy: 0.0000e+00 - val_loss: 3.0451\n",
      "Epoch 3/50\n",
      "\u001b[1m19/19\u001b[0m \u001b[32m━━━━━━━━━━━━━━━━━━━━\u001b[0m\u001b[37m\u001b[0m \u001b[1m0s\u001b[0m 3ms/step - accuracy: 0.2994 - loss: 1.5929 - val_accuracy: 0.0000e+00 - val_loss: 3.1418\n",
      "Epoch 4/50\n",
      "\u001b[1m19/19\u001b[0m \u001b[32m━━━━━━━━━━━━━━━━━━━━\u001b[0m\u001b[37m\u001b[0m \u001b[1m0s\u001b[0m 3ms/step - accuracy: 0.3609 - loss: 1.4981 - val_accuracy: 0.0000e+00 - val_loss: 3.2378\n",
      "Epoch 5/50\n",
      "\u001b[1m19/19\u001b[0m \u001b[32m━━━━━━━━━━━━━━━━━━━━\u001b[0m\u001b[37m\u001b[0m \u001b[1m0s\u001b[0m 4ms/step - accuracy: 0.4010 - loss: 1.4199 - val_accuracy: 0.0000e+00 - val_loss: 3.3190\n",
      "Epoch 6/50\n",
      "\u001b[1m19/19\u001b[0m \u001b[32m━━━━━━━━━━━━━━━━━━━━\u001b[0m\u001b[37m\u001b[0m \u001b[1m0s\u001b[0m 3ms/step - accuracy: 0.4038 - loss: 1.3713 - val_accuracy: 0.0000e+00 - val_loss: 3.3712\n",
      "Epoch 7/50\n",
      "\u001b[1m19/19\u001b[0m \u001b[32m━━━━━━━━━━━━━━━━━━━━\u001b[0m\u001b[37m\u001b[0m \u001b[1m0s\u001b[0m 2ms/step - accuracy: 0.4397 - loss: 1.3136 - val_accuracy: 0.0000e+00 - val_loss: 3.3893\n",
      "Epoch 8/50\n",
      "\u001b[1m19/19\u001b[0m \u001b[32m━━━━━━━━━━━━━━━━━━━━\u001b[0m\u001b[37m\u001b[0m \u001b[1m0s\u001b[0m 3ms/step - accuracy: 0.4695 - loss: 1.2956 - val_accuracy: 0.0000e+00 - val_loss: 3.3958\n",
      "Epoch 9/50\n",
      "\u001b[1m19/19\u001b[0m \u001b[32m━━━━━━━━━━━━━━━━━━━━\u001b[0m\u001b[37m\u001b[0m \u001b[1m0s\u001b[0m 3ms/step - accuracy: 0.5494 - loss: 1.2218 - val_accuracy: 0.0000e+00 - val_loss: 3.3962\n",
      "Epoch 10/50\n",
      "\u001b[1m19/19\u001b[0m \u001b[32m━━━━━━━━━━━━━━━━━━━━\u001b[0m\u001b[37m\u001b[0m \u001b[1m0s\u001b[0m 3ms/step - accuracy: 0.6012 - loss: 1.1806 - val_accuracy: 0.0000e+00 - val_loss: 3.3570\n",
      "Epoch 11/50\n",
      "\u001b[1m19/19\u001b[0m \u001b[32m━━━━━━━━━━━━━━━━━━━━\u001b[0m\u001b[37m\u001b[0m \u001b[1m0s\u001b[0m 4ms/step - accuracy: 0.5911 - loss: 1.1517 - val_accuracy: 0.0000e+00 - val_loss: 3.3141\n",
      "Epoch 12/50\n",
      "\u001b[1m19/19\u001b[0m \u001b[32m━━━━━━━━━━━━━━━━━━━━\u001b[0m\u001b[37m\u001b[0m \u001b[1m0s\u001b[0m 4ms/step - accuracy: 0.6192 - loss: 1.1180 - val_accuracy: 0.0000e+00 - val_loss: 3.2598\n",
      "Epoch 13/50\n",
      "\u001b[1m19/19\u001b[0m \u001b[32m━━━━━━━━━━━━━━━━━━━━\u001b[0m\u001b[37m\u001b[0m \u001b[1m0s\u001b[0m 4ms/step - accuracy: 0.6086 - loss: 1.0934 - val_accuracy: 0.0000e+00 - val_loss: 3.1852\n",
      "Epoch 14/50\n",
      "\u001b[1m19/19\u001b[0m \u001b[32m━━━━━━━━━━━━━━━━━━━━\u001b[0m\u001b[37m\u001b[0m \u001b[1m0s\u001b[0m 4ms/step - accuracy: 0.6196 - loss: 1.0674 - val_accuracy: 0.0000e+00 - val_loss: 3.1341\n",
      "Epoch 15/50\n",
      "\u001b[1m19/19\u001b[0m \u001b[32m━━━━━━━━━━━━━━━━━━━━\u001b[0m\u001b[37m\u001b[0m \u001b[1m0s\u001b[0m 3ms/step - accuracy: 0.6012 - loss: 1.0875 - val_accuracy: 0.0000e+00 - val_loss: 3.0631\n",
      "Epoch 16/50\n",
      "\u001b[1m19/19\u001b[0m \u001b[32m━━━━━━━━━━━━━━━━━━━━\u001b[0m\u001b[37m\u001b[0m \u001b[1m0s\u001b[0m 4ms/step - accuracy: 0.6309 - loss: 1.0141 - val_accuracy: 0.0000e+00 - val_loss: 3.0024\n",
      "Epoch 17/50\n",
      "\u001b[1m19/19\u001b[0m \u001b[32m━━━━━━━━━━━━━━━━━━━━\u001b[0m\u001b[37m\u001b[0m \u001b[1m0s\u001b[0m 4ms/step - accuracy: 0.6109 - loss: 1.0263 - val_accuracy: 0.0000e+00 - val_loss: 2.9205\n",
      "Epoch 18/50\n",
      "\u001b[1m19/19\u001b[0m \u001b[32m━━━━━━━━━━━━━━━━━━━━\u001b[0m\u001b[37m\u001b[0m \u001b[1m0s\u001b[0m 4ms/step - accuracy: 0.6159 - loss: 1.0137 - val_accuracy: 0.0000e+00 - val_loss: 2.8840\n",
      "Epoch 19/50\n",
      "\u001b[1m19/19\u001b[0m \u001b[32m━━━━━━━━━━━━━━━━━━━━\u001b[0m\u001b[37m\u001b[0m \u001b[1m0s\u001b[0m 4ms/step - accuracy: 0.6334 - loss: 0.9839 - val_accuracy: 0.0000e+00 - val_loss: 2.8268\n",
      "Epoch 20/50\n",
      "\u001b[1m19/19\u001b[0m \u001b[32m━━━━━━━━━━━━━━━━━━━━\u001b[0m\u001b[37m\u001b[0m \u001b[1m0s\u001b[0m 4ms/step - accuracy: 0.6394 - loss: 0.9659 - val_accuracy: 0.0000e+00 - val_loss: 2.7459\n",
      "Epoch 21/50\n",
      "\u001b[1m19/19\u001b[0m \u001b[32m━━━━━━━━━━━━━━━━━━━━\u001b[0m\u001b[37m\u001b[0m \u001b[1m0s\u001b[0m 4ms/step - accuracy: 0.6222 - loss: 0.9774 - val_accuracy: 0.0000e+00 - val_loss: 2.6731\n",
      "Epoch 22/50\n",
      "\u001b[1m19/19\u001b[0m \u001b[32m━━━━━━━━━━━━━━━━━━━━\u001b[0m\u001b[37m\u001b[0m \u001b[1m0s\u001b[0m 3ms/step - accuracy: 0.6053 - loss: 0.9933 - val_accuracy: 0.0000e+00 - val_loss: 2.6446\n",
      "Epoch 23/50\n",
      "\u001b[1m19/19\u001b[0m \u001b[32m━━━━━━━━━━━━━━━━━━━━\u001b[0m\u001b[37m\u001b[0m \u001b[1m0s\u001b[0m 5ms/step - accuracy: 0.6175 - loss: 0.9608 - val_accuracy: 0.0000e+00 - val_loss: 2.6110\n",
      "Epoch 24/50\n",
      "\u001b[1m19/19\u001b[0m \u001b[32m━━━━━━━━━━━━━━━━━━━━\u001b[0m\u001b[37m\u001b[0m \u001b[1m0s\u001b[0m 4ms/step - accuracy: 0.6311 - loss: 0.9491 - val_accuracy: 0.0000e+00 - val_loss: 2.5626\n",
      "Epoch 25/50\n",
      "\u001b[1m19/19\u001b[0m \u001b[32m━━━━━━━━━━━━━━━━━━━━\u001b[0m\u001b[37m\u001b[0m \u001b[1m0s\u001b[0m 4ms/step - accuracy: 0.6447 - loss: 0.9141 - val_accuracy: 0.0000e+00 - val_loss: 2.5232\n",
      "Epoch 26/50\n",
      "\u001b[1m19/19\u001b[0m \u001b[32m━━━━━━━━━━━━━━━━━━━━\u001b[0m\u001b[37m\u001b[0m \u001b[1m0s\u001b[0m 4ms/step - accuracy: 0.6316 - loss: 0.9215 - val_accuracy: 0.0000e+00 - val_loss: 2.5061\n",
      "Epoch 27/50\n",
      "\u001b[1m19/19\u001b[0m \u001b[32m━━━━━━━━━━━━━━━━━━━━\u001b[0m\u001b[37m\u001b[0m \u001b[1m0s\u001b[0m 4ms/step - accuracy: 0.6458 - loss: 0.8880 - val_accuracy: 0.0000e+00 - val_loss: 2.4628\n",
      "Epoch 28/50\n",
      "\u001b[1m19/19\u001b[0m \u001b[32m━━━━━━━━━━━━━━━━━━━━\u001b[0m\u001b[37m\u001b[0m \u001b[1m0s\u001b[0m 4ms/step - accuracy: 0.6352 - loss: 0.9030 - val_accuracy: 0.0000e+00 - val_loss: 2.4226\n",
      "Epoch 29/50\n",
      "\u001b[1m19/19\u001b[0m \u001b[32m━━━━━━━━━━━━━━━━━━━━\u001b[0m\u001b[37m\u001b[0m \u001b[1m0s\u001b[0m 4ms/step - accuracy: 0.6607 - loss: 0.8769 - val_accuracy: 0.0000e+00 - val_loss: 2.3652\n",
      "Epoch 30/50\n",
      "\u001b[1m19/19\u001b[0m \u001b[32m━━━━━━━━━━━━━━━━━━━━\u001b[0m\u001b[37m\u001b[0m \u001b[1m0s\u001b[0m 4ms/step - accuracy: 0.6136 - loss: 0.9226 - val_accuracy: 0.0000e+00 - val_loss: 2.3484\n",
      "Epoch 31/50\n",
      "\u001b[1m19/19\u001b[0m \u001b[32m━━━━━━━━━━━━━━━━━━━━\u001b[0m\u001b[37m\u001b[0m \u001b[1m0s\u001b[0m 4ms/step - accuracy: 0.6325 - loss: 0.8837 - val_accuracy: 0.0000e+00 - val_loss: 2.3169\n",
      "Epoch 32/50\n",
      "\u001b[1m19/19\u001b[0m \u001b[32m━━━━━━━━━━━━━━━━━━━━\u001b[0m\u001b[37m\u001b[0m \u001b[1m0s\u001b[0m 4ms/step - accuracy: 0.6170 - loss: 0.9120 - val_accuracy: 0.0000e+00 - val_loss: 2.2762\n",
      "Epoch 33/50\n",
      "\u001b[1m19/19\u001b[0m \u001b[32m━━━━━━━━━━━━━━━━━━━━\u001b[0m\u001b[37m\u001b[0m \u001b[1m0s\u001b[0m 5ms/step - accuracy: 0.6265 - loss: 0.8953 - val_accuracy: 0.0000e+00 - val_loss: 2.2415\n",
      "Epoch 34/50\n",
      "\u001b[1m19/19\u001b[0m \u001b[32m━━━━━━━━━━━━━━━━━━━━\u001b[0m\u001b[37m\u001b[0m \u001b[1m0s\u001b[0m 3ms/step - accuracy: 0.6462 - loss: 0.8580 - val_accuracy: 0.0000e+00 - val_loss: 2.2434\n",
      "Epoch 35/50\n",
      "\u001b[1m19/19\u001b[0m \u001b[32m━━━━━━━━━━━━━━━━━━━━\u001b[0m\u001b[37m\u001b[0m \u001b[1m0s\u001b[0m 3ms/step - accuracy: 0.6494 - loss: 0.8574 - val_accuracy: 0.0000e+00 - val_loss: 2.1780\n",
      "Epoch 36/50\n",
      "\u001b[1m19/19\u001b[0m \u001b[32m━━━━━━━━━━━━━━━━━━━━\u001b[0m\u001b[37m\u001b[0m \u001b[1m0s\u001b[0m 4ms/step - accuracy: 0.6302 - loss: 0.8794 - val_accuracy: 0.0000e+00 - val_loss: 2.1240\n",
      "Epoch 37/50\n",
      "\u001b[1m19/19\u001b[0m \u001b[32m━━━━━━━━━━━━━━━━━━━━\u001b[0m\u001b[37m\u001b[0m \u001b[1m0s\u001b[0m 4ms/step - accuracy: 0.6715 - loss: 0.8256 - val_accuracy: 0.0000e+00 - val_loss: 2.1280\n",
      "Epoch 38/50\n",
      "\u001b[1m19/19\u001b[0m \u001b[32m━━━━━━━━━━━━━━━━━━━━\u001b[0m\u001b[37m\u001b[0m \u001b[1m0s\u001b[0m 3ms/step - accuracy: 0.6561 - loss: 0.8333 - val_accuracy: 0.0000e+00 - val_loss: 2.0576\n",
      "Epoch 39/50\n",
      "\u001b[1m19/19\u001b[0m \u001b[32m━━━━━━━━━━━━━━━━━━━━\u001b[0m\u001b[37m\u001b[0m \u001b[1m0s\u001b[0m 4ms/step - accuracy: 0.6472 - loss: 0.8558 - val_accuracy: 0.0000e+00 - val_loss: 2.0597\n",
      "Epoch 40/50\n",
      "\u001b[1m19/19\u001b[0m \u001b[32m━━━━━━━━━━━━━━━━━━━━\u001b[0m\u001b[37m\u001b[0m \u001b[1m0s\u001b[0m 5ms/step - accuracy: 0.6357 - loss: 0.8559 - val_accuracy: 0.0000e+00 - val_loss: 2.0217\n",
      "Epoch 41/50\n",
      "\u001b[1m19/19\u001b[0m \u001b[32m━━━━━━━━━━━━━━━━━━━━\u001b[0m\u001b[37m\u001b[0m \u001b[1m0s\u001b[0m 4ms/step - accuracy: 0.6433 - loss: 0.8428 - val_accuracy: 0.0000e+00 - val_loss: 2.0152\n",
      "Epoch 42/50\n",
      "\u001b[1m19/19\u001b[0m \u001b[32m━━━━━━━━━━━━━━━━━━━━\u001b[0m\u001b[37m\u001b[0m \u001b[1m0s\u001b[0m 3ms/step - accuracy: 0.6418 - loss: 0.8211 - val_accuracy: 0.0000e+00 - val_loss: 1.9907\n",
      "Epoch 43/50\n",
      "\u001b[1m19/19\u001b[0m \u001b[32m━━━━━━━━━━━━━━━━━━━━\u001b[0m\u001b[37m\u001b[0m \u001b[1m0s\u001b[0m 4ms/step - accuracy: 0.6552 - loss: 0.8191 - val_accuracy: 0.0000e+00 - val_loss: 1.9686\n",
      "Epoch 44/50\n",
      "\u001b[1m19/19\u001b[0m \u001b[32m━━━━━━━━━━━━━━━━━━━━\u001b[0m\u001b[37m\u001b[0m \u001b[1m0s\u001b[0m 4ms/step - accuracy: 0.6388 - loss: 0.8298 - val_accuracy: 0.0000e+00 - val_loss: 1.9216\n",
      "Epoch 45/50\n",
      "\u001b[1m19/19\u001b[0m \u001b[32m━━━━━━━━━━━━━━━━━━━━\u001b[0m\u001b[37m\u001b[0m \u001b[1m0s\u001b[0m 4ms/step - accuracy: 0.6345 - loss: 0.8319 - val_accuracy: 0.0000e+00 - val_loss: 1.9033\n",
      "Epoch 46/50\n",
      "\u001b[1m19/19\u001b[0m \u001b[32m━━━━━━━━━━━━━━━━━━━━\u001b[0m\u001b[37m\u001b[0m \u001b[1m0s\u001b[0m 4ms/step - accuracy: 0.6609 - loss: 0.8098 - val_accuracy: 0.0000e+00 - val_loss: 1.9037\n",
      "Epoch 47/50\n",
      "\u001b[1m19/19\u001b[0m \u001b[32m━━━━━━━━━━━━━━━━━━━━\u001b[0m\u001b[37m\u001b[0m \u001b[1m0s\u001b[0m 4ms/step - accuracy: 0.6581 - loss: 0.8101 - val_accuracy: 0.0000e+00 - val_loss: 1.8438\n",
      "Epoch 48/50\n",
      "\u001b[1m19/19\u001b[0m \u001b[32m━━━━━━━━━━━━━━━━━━━━\u001b[0m\u001b[37m\u001b[0m \u001b[1m0s\u001b[0m 4ms/step - accuracy: 0.6613 - loss: 0.7979 - val_accuracy: 0.0000e+00 - val_loss: 1.8503\n",
      "Epoch 49/50\n",
      "\u001b[1m19/19\u001b[0m \u001b[32m━━━━━━━━━━━━━━━━━━━━\u001b[0m\u001b[37m\u001b[0m \u001b[1m0s\u001b[0m 3ms/step - accuracy: 0.6685 - loss: 0.7928 - val_accuracy: 0.0000e+00 - val_loss: 1.8329\n",
      "Epoch 50/50\n",
      "\u001b[1m19/19\u001b[0m \u001b[32m━━━━━━━━━━━━━━━━━━━━\u001b[0m\u001b[37m\u001b[0m \u001b[1m0s\u001b[0m 4ms/step - accuracy: 0.6434 - loss: 0.8103 - val_accuracy: 0.0000e+00 - val_loss: 1.8169\n"
     ]
    },
    {
     "data": {
      "image/png": "[encoded data removed]",
      "text/plain": [
       "<Figure size 640x480 with 1 Axes>"
      ]
     },
     "metadata": {},
     "output_type": "display_data"
    }
   ],
   "source": [
    "import matplotlib.pyplot as plt\n",
    "\n",
    "# Treinando o modelo e salvando o histórico\n",
    "history = model.fit(X_train, y_train, epochs=epochs, validation_data=(X_test, y_test))\n",
    "\n",
    "# Obtendo as métricas de acurácia do histórico\n",
    "train_accuracy = history.history['accuracy']\n",
    "test_accuracy = history.history['val_accuracy']\n",
    "\n",
    "# Construindo o gráfico\n",
    "plt.plot(range(1, len(train_accuracy) + 1), train_accuracy, label='Acurácia de Treino')\n",
    "plt.plot(range(1, len(test_accuracy) + 1), test_accuracy, label='Acurácia de Teste')\n",
    "plt.xlabel('Épocas')\n",
    "plt.ylabel('Acurácia')\n",
    "plt.title('Acurácia ao longo das Épocas')\n",
    "plt.legend()\n",
    "plt.show()\n"
   ]
  },
  {
   "cell_type": "code",
   "execution_count": null,
   "id": "fed8b911-aee7-4fa5-bd2f-97a537c20ad5",
   "metadata": {},
   "outputs": [],
   "source": []
  }
 ],
 "metadata": {
  "kernelspec": {
   "display_name": "Python 3 (ipykernel)",
   "language": "python",
   "name": "python3"
  },
  "language_info": {
   "codemirror_mode": {
    "name": "ipython",
    "version": 3
   },
   "file_extension": ".py",
   "mimetype": "text/x-python",
   "name": "python",
   "nbconvert_exporter": "python",
   "pygments_lexer": "ipython3",
   "version": "3.12.2"
  }
 },
 "nbformat": 4,
 "nbformat_minor": 5
}
