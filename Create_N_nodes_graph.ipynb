{
 "cells": [
  {
   "cell_type": "markdown",
   "id": "61f736a3",
   "metadata": {},
   "source": [
    "# Construção de grafos\n",
    "\n",
    "Código irá construir todos os grafos de N vértices e seu número cromático"
   ]
  },
  {
   "cell_type": "code",
   "execution_count": null,
   "id": "9290e93a-0f9a-4d6c-b758-d41cbf701a2d",
   "metadata": {},
   "outputs": [],
   "source": [
    "!pip install networkx[default]"
   ]
  },
  {
   "cell_type": "code",
   "execution_count": 1,
   "id": "7e0d1bb1",
   "metadata": {},
   "outputs": [],
   "source": [
    "from pathlib import Path\n",
    "import networkx as nx\n",
    "import itertools\n",
    "import random\n",
    "import time\n",
    "random.seed(time.time())"
   ]
  },
  {
   "cell_type": "code",
   "execution_count": 2,
   "id": "dfcdbd3e",
   "metadata": {},
   "outputs": [],
   "source": [
    "def gen_edges(n):\n",
    "    return itertools.chain.from_iterable(\n",
    "        itertools.combinations(itertools.combinations(range(n), 2), i)\n",
    "        for i in range(n+1))"
   ]
  },
  {
   "cell_type": "code",
   "execution_count": 3,
   "id": "716683ee",
   "metadata": {},
   "outputs": [],
   "source": [
    "def graphs(n):\n",
    "    for edges in gen_edges(n):\n",
    "        g = nx.Graph()\n",
    "        g.add_nodes_from(range(n))\n",
    "        g.add_edges_from(edges)\n",
    "        yield g\n"
   ]
  },
  {
   "cell_type": "code",
   "execution_count": 4,
   "id": "5b18ed6f",
   "metadata": {},
   "outputs": [],
   "source": [
    "def chrome(g):\n",
    "    return len(set(nx.coloring.greedy_color(g).values()))"
   ]
  },
  {
   "cell_type": "code",
   "execution_count": 5,
   "id": "3b632708",
   "metadata": {
    "scrolled": true
   },
   "outputs": [],
   "source": [
    "\n",
    "def write_graph(g, file_name):\n",
    "    print('TYPE : TSP',\n",
    "          f'DIMENSION: {g.number_of_nodes()}',\n",
    "          'EDGE_DATA_FORMAT: EDGE_LIST',\n",
    "          'EDGE_WEIGHT_TYPE: EXPLICIT',\n",
    "          'EDGE_WEIGHT_FORMAT: FULL_MATRIX',\n",
    "          'EDGE_DATA_SECTION',\n",
    "          sep='\\n',\n",
    "          file=file_name)\n",
    "    for e in g.edges():\n",
    "        print(*e, file=file_name)\n",
    "    print(-1, file=file_name)\n",
    "    print('EDGE_WEIGHT_SECTION',\n",
    "          file=file_name)\n",
    "    for i in range(g.number_of_nodes()):\n",
    "        print(*([0.0]*g.number_of_nodes()),\n",
    "              sep='\\t', file=file_name)\n",
    "    print('DIFF_EDGE',\n",
    "          '0 0',\n",
    "          'CHROM_NUMBER',\n",
    "          chrome(g),\n",
    "          'EOF',\n",
    "          sep='\\n',\n",
    "          file=file_name)"
   ]
  },
  {
   "cell_type": "code",
   "execution_count": 6,
   "id": "34cf38ee-440b-45f3-a608-2fa4747739e7",
   "metadata": {},
   "outputs": [],
   "source": [
    "def write_file_graph(g, file_name):\n",
    "    with open(file_name, \"w\") as file:\n",
    "        file.write(f\"TYPE : TSP\\nDIMENSION: {g.number_of_nodes()}\\nEDGE_DATA_FORMAT: EDGE_LIST\\nEDGE_WEIGHT_TYPE: EXPLICIT\\nEDGE_WEIGHT_FORMAT: FULL_MATRIX\\nEDGE_DATA_SECTION\\n\")\n",
    "        for e in g.edges():\n",
    "            file.write(f\"{e[0]} {e[1]}\\n\")\n",
    "        file.write(\"-1\\n\")\n",
    "        file.write(f\"EDGE_WEIGHT_SECTION\\n\")\n",
    "    \n",
    "        for row in nx.adjacency_matrix(g).toarray().tolist():\n",
    "            file.write(f\"{row}\\n\")\n",
    "    \n",
    "        file.write(f\"'DIFF_EDGE'\\n0 0\\nCHROM_NUMBER\\n{chrome(g)}\\nEOF\")\n",
    "\n",
    "    # print(f\"Arquivo {file_name} criado com sucesso\")"
   ]
  },
  {
   "cell_type": "markdown",
   "id": "4ddf4a3b",
   "metadata": {},
   "source": [
    "Qantidade N de Vértices a serem considerados"
   ]
  },
  {
   "cell_type": "code",
   "execution_count": 7,
   "id": "1ae1bcfb",
   "metadata": {},
   "outputs": [],
   "source": [
    "N = 7 # quantidade de vertices\n",
    "\n",
    "qtd_training = 582 # quantidade de amostras para treinamento\n",
    "qtd_testing = 180 # quantidade de amostras para teste\n",
    "\n",
    "# referencia para os arquivos dos dados de cada grafo \n",
    "# salvando em um diretorio\n",
    "file_name_origin = \"m10.graph\"\n",
    "dir_training_name = f\"qrnn-training-{N}\"\n",
    "dir_testing_name = f\"qrnn-testing-{N}\""
   ]
  },
  {
   "cell_type": "markdown",
   "id": "504e5f31",
   "metadata": {},
   "source": [
    "Construção dos grafos"
   ]
  },
  {
   "cell_type": "code",
   "execution_count": 8,
   "id": "d629a7e9-a91c-43a7-a90e-40a3b681f38e",
   "metadata": {},
   "outputs": [],
   "source": [
    "import numpy as np"
   ]
  },
  {
   "cell_type": "code",
   "execution_count": 9,
   "id": "3e7496e6",
   "metadata": {},
   "outputs": [],
   "source": [
    "def create_graph(input, file_name):\n",
    "    array = np.random.randint(2, size=(input,input))\n",
    "    G = nx.from_numpy_array(array)\n",
    "    # print(G.edges(data=True))\n",
    "    # print(chrome(G))\n",
    "    write_file_graph(G, file_name)"
   ]
  },
  {
   "cell_type": "code",
   "execution_count": 10,
   "id": "e56d63a7-da34-493f-96d6-64a2adc64253",
   "metadata": {},
   "outputs": [],
   "source": [
    "value = 762\n"
   ]
  },
  {
   "cell_type": "code",
   "execution_count": 11,
   "id": "838d05fa-de8d-46bd-b73c-06d65bdae536",
   "metadata": {},
   "outputs": [
    {
     "name": "stdout",
     "output_type": "stream",
     "text": [
      "Arquivos qrnn-4\t criados com sucesso !!!\n",
      "Arquivos qrnn-5\t criados com sucesso !!!\n",
      "Arquivos qrnn-6\t criados com sucesso !!!\n",
      "Arquivos qrnn-7\t criados com sucesso !!!\n"
     ]
    }
   ],
   "source": [
    "import os\n",
    "\n",
    "numbers = [4,5,6,7]\n",
    "\n",
    "for number in numbers:\n",
    "    dir_name = f\"qrnn-{number}\"\n",
    "    if not os.path.exists(dir_name):\n",
    "        os.mkdir(dir_name)\n",
    "    for i in range(value):\n",
    "        i_padded = str(i).zfill(3)\n",
    "        create_graph(number, os.path.join(dir_name, f\"m{i_padded}.graph\"))\n",
    "    print(f\"Arquivos {dir_name}\\t criados com sucesso !!!\")"
   ]
  },
  {
   "cell_type": "code",
   "execution_count": 39,
   "id": "23697781-a780-4487-a8ba-6fecd5151a96",
   "metadata": {},
   "outputs": [
    {
     "name": "stdout",
     "output_type": "stream",
     "text": [
      "Matriz de Adjacência:\n",
      "[[0 1 1]\n",
      " [1 0 1]\n",
      " [1 1 0]]\n",
      "\n",
      "Matriz de Adjacência como Lista de Listas:\n",
      "[0, 1, 1]\n",
      "[1, 0, 1]\n",
      "[1, 1, 0]\n"
     ]
    }
   ],
   "source": [
    "import networkx as nx\n",
    "import numpy as np\n",
    "\n",
    "# Crie um grafo simples para demonstração\n",
    "G = nx.Graph()\n",
    "G.add_edges_from([(1, 2), (2, 3), (3, 1)])\n",
    "\n",
    "# Obtenha a matriz de adjacência\n",
    "adj_matrix = nx.adjacency_matrix(G)\n",
    "\n",
    "# Converta a matriz de adjacência em uma lista de listas ou um array NumPy\n",
    "adj_matrix_array = adj_matrix.toarray()\n",
    "print(\"Matriz de Adjacência:\")\n",
    "print(adj_matrix_array)\n",
    "\n",
    "# Se preferir, você pode mostrar como uma lista de listas\n",
    "adj_matrix_list = adj_matrix.toarray().tolist()\n",
    "print(\"\\nMatriz de Adjacência como Lista de Listas:\")\n",
    "for row in adj_matrix_list:\n",
    "    print(row)"
   ]
  }
 ],
 "metadata": {
  "kernelspec": {
   "display_name": "Python 3 (ipykernel)",
   "language": "python",
   "name": "python3"
  },
  "language_info": {
   "codemirror_mode": {
    "name": "ipython",
    "version": 3
   },
   "file_extension": ".py",
   "mimetype": "text/x-python",
   "name": "python",
   "nbconvert_exporter": "python",
   "pygments_lexer": "ipython3",
   "version": "3.12.2"
  }
 },
 "nbformat": 4,
 "nbformat_minor": 5
}
