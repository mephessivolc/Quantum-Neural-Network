{
 "cells": [
  {
   "cell_type": "code",
   "execution_count": null,
   "id": "213c6644-3939-43b5-9fff-e57b7168c4ae",
   "metadata": {},
   "outputs": [],
   "source": [
    "import numpy as np\n",
    "import math\n",
    "import matplotlib.pyplot as plt"
   ]
  },
  {
   "cell_type": "code",
   "execution_count": null,
   "id": "a3842fca-af0c-40bf-8ca9-a8997aa4a93e",
   "metadata": {},
   "outputs": [],
   "source": [
    "from sklearn.model_selection import train_test_split"
   ]
  },
  {
   "cell_type": "code",
   "execution_count": 2,
   "id": "16038b3e-67f5-4672-b43f-88185bbfcfdd",
   "metadata": {},
   "outputs": [],
   "source": [
    "from qiskit_aer import AerSimulator\n",
    "from qiskit import QuantumCircuit, QuantumRegister, ClassicalRegister"
   ]
  },
  {
   "cell_type": "code",
   "execution_count": null,
   "id": "e43d86d4-10bd-4b54-984a-e650feddef73",
   "metadata": {},
   "outputs": [],
   "source": [
    "import tensorflow as tf\n",
    "# print(tf.__version__)\n",
    "tf.config.experimental_run_functions_eagerly(True)"
   ]
  },
  {
   "cell_type": "code",
   "execution_count": null,
   "id": "ecfa31df-0675-4b92-af35-9c9c561c87d4",
   "metadata": {},
   "outputs": [],
   "source": [
    "from create_graphs import Graph "
   ]
  },
  {
   "cell_type": "code",
   "execution_count": null,
   "id": "71288ef5-78a1-4b99-833d-f10543b58511",
   "metadata": {},
   "outputs": [],
   "source": [
    "N = 8\n",
    "max_qtd = 782\n",
    "epochs = 100"
   ]
  },
  {
   "cell_type": "code",
   "execution_count": null,
   "id": "15dacdf6-6446-4dcb-86f5-4bc3de977fc1",
   "metadata": {},
   "outputs": [],
   "source": [
    "X, y = [], []\n",
    "for i in range(max_qtd):\n",
    "    g = Graph(N)\n",
    "    X.append(g.get_flatten_matrix())\n",
    "    y.append(g.get_chrome_number())\n",
    "\n",
    "X_train, X_test, y_train, y_test = train_test_split(X, y, test_size=0.33, random_state=42)"
   ]
  },
  {
   "cell_type": "code",
   "execution_count": null,
   "id": "2605b973-ff49-44fe-ab07-4db9c630a0bc",
   "metadata": {},
   "outputs": [],
   "source": [
    "X_train = tf.convert_to_tensor(X_train, dtype=tf.float32)\n",
    "X_test = tf.convert_to_tensor(X_test, dtype=tf.float32)\n",
    "y_train = tf.convert_to_tensor(y_train, dtype=tf.float32)\n",
    "y_test = tf.convert_to_tensor(y_test, dtype=tf.float32)"
   ]
  },
  {
   "cell_type": "code",
   "execution_count": null,
   "id": "5283c649-cc65-4254-8ed7-734a8ae89e48",
   "metadata": {},
   "outputs": [],
   "source": [
    "def binary2int(key):\n",
    "    if not isinstance(key, str):\n",
    "        key = str(key)\n",
    "\n",
    "    return int(key, 2)\n"
   ]
  },
  {
   "cell_type": "code",
   "execution_count": null,
   "id": "afe96b72-cf31-449d-bebc-b995cf1dddc5",
   "metadata": {},
   "outputs": [],
   "source": [
    "def bit_length(number):\n",
    "    if not isinstance(number, int):\n",
    "        number = int(number)\n",
    "\n",
    "    return (number).bit_length()\n"
   ]
  },
  {
   "cell_type": "code",
   "execution_count": null,
   "id": "20dd9f51-8215-47b3-9295-69e6e74f841d",
   "metadata": {},
   "outputs": [],
   "source": [
    "def max_value(dic):\n",
    "    max_key = max(dic, key=dic.get)\n",
    "\n",
    "    max_value = dic[max_key]\n",
    "\n",
    "    return max_key, max_value\n"
   ]
  },
  {
   "cell_type": "code",
   "execution_count": null,
   "id": "4f88722e-e26d-44c2-82ed-aa0e1db53b28",
   "metadata": {},
   "outputs": [],
   "source": [
    "def feature_map(inputs, bit_length_response):\n",
    "\n",
    "    qReg = QuantumRegister(len(inputs))\n",
    "        \n",
    "    cReg = ClassicalRegister(bit_length_response)\n",
    "    qc = QuantumCircuit(qReg, cReg)\n",
    "    \n",
    "    for i, x in enumerate(inputs):\n",
    "        qc.rx(x, i)\n",
    "    \n",
    "    qc.barrier()\n",
    "    \n",
    "    return qc, cReg\n"
   ]
  },
  {
   "cell_type": "code",
   "execution_count": null,
   "id": "aef63a7e-bd6b-48a6-84a7-7a35e5fa7c87",
   "metadata": {},
   "outputs": [],
   "source": [
    "def variational_circuit(qc, theta, inputs):\n",
    "    \n",
    "    for i in range(len(inputs) - 1):\n",
    "        qc.cx(i+1, i)\n",
    "    \n",
    "    qc.cx(0, len(inputs)-1)\n",
    "    qc.barrier()\n",
    "    \n",
    "    for i in range(len(inputs)):\n",
    "        qc.ry(theta[i], i)\n",
    "\n",
    "    qc.barrier()\n",
    "\n",
    "    return qc\n"
   ]
  },
  {
   "cell_type": "code",
   "execution_count": null,
   "id": "7b5a4622-0144-4211-b1c4-b6f0e5ce9c79",
   "metadata": {},
   "outputs": [],
   "source": [
    "def quantum_nn(inputs, theta, bit_length_response, shots, with_errors=False):\n",
    "    inputs_np = inputs.numpy()[-1]\n",
    "    theta_np = theta.numpy()\n",
    "\n",
    "    qc, cReg = feature_map(inputs_np, bit_length_response)\n",
    "    qc = variational_circuit(qc, theta_np, inputs_np)\n",
    "\n",
    "    for i in range(bit_length_response):\n",
    "        qc.measure(i, cReg[i])\n",
    "\n",
    "    results = AerSimulator().run(qc, shots=shots, memory=True).result()\n",
    "    if with_errors:\n",
    "        \n",
    "    counts = results.get_counts(qc)\n",
    "\n",
    "    stats = {}\n",
    "    for key, value in counts.items():\n",
    "        stats[binary2int(key)] = value / shots\n",
    "\n",
    "    max_key, max_v = max_value(stats)\n",
    "\n",
    "    return max_key, max_v\n"
   ]
  },
  {
   "cell_type": "code",
   "execution_count": null,
   "id": "0c80fc76-e349-4bf9-8933-55dfd43812fa",
   "metadata": {},
   "outputs": [],
   "source": [
    "class QuantumLayer(tf.keras.layers.Layer):\n",
    "    def __init__(self, bit_length_response, shots=1E4, **kwargs):\n",
    "        super(QuantumLayer, self).__init__(**kwargs)\n",
    "        self.bit_length_response = bit_length_response\n",
    "        self.shots = shots\n",
    "\n",
    "    def build(self, input_shape):\n",
    "        super(QuantumLayer, self).build(input_shape)\n",
    "        self.N = input_shape[-1]\n",
    "        self.n_response = bit_length(self.bit_length_response) # self.bit_length_response\n",
    "        self.theta = self.add_weight(name='theta', shape=(self.N,), initializer='random_normal', trainable=True)\n",
    "\n",
    "    def call(self, inputs):\n",
    "        if tf.executing_eagerly():\n",
    "            output_key, output_value = quantum_nn(inputs, self.theta, self.bit_length_response, self.shots)\n",
    "            # print(f\"Key: {max_key}\")\n",
    "\n",
    "            outputs = np.zeros((tf.shape(inputs)[0], self.N))  # Modificação para retornar um tensor bidimensional\n",
    "            if not output_key >= self.N:\n",
    "                outputs[0, output_key] = output_value\n",
    "\n",
    "            outputs = tf.constant(outputs, dtype=tf.float32)\n",
    "\n",
    "            return outputs\n",
    "\n",
    "        return inputs\n",
    "\n",
    "    def get_config(self):\n",
    "        config = super(QuantumLayer, self).get_config()\n",
    "        config.update({\n",
    "            'bit_length_response': self.bit_length_response,\n",
    "            'shots': self.shots,\n",
    "        })\n",
    "        return config\n"
   ]
  },
  {
   "cell_type": "code",
   "execution_count": null,
   "id": "b0d1e4b7-c4b4-4cee-8b51-eae91fe8dd7d",
   "metadata": {},
   "outputs": [],
   "source": [
    "model = tf.keras.Sequential([\n",
    "    tf.keras.layers.Dense(N, activation=tf.nn.relu, name=\"Dense_1\"),\n",
    "    QuantumLayer(N, name=\"QuantumLayer\"),\n",
    "    tf.keras.layers.Dense(N+1, activation=tf.nn.softmax, name=\"Dense_2\")\n",
    "])\n",
    "model.build()"
   ]
  },
  {
   "cell_type": "code",
   "execution_count": null,
   "id": "2d8e0e33-c18e-4373-9e21-a9570e9d4689",
   "metadata": {},
   "outputs": [],
   "source": [
    "model.compile(optimizer='adam',\n",
    "              loss=tf.keras.losses.SparseCategoricalCrossentropy(from_logits=False),\n",
    "              metrics=['accuracy'])"
   ]
  },
  {
   "cell_type": "code",
   "execution_count": null,
   "id": "cbd6eafc-7cb9-4535-bfda-9d44206d94ef",
   "metadata": {},
   "outputs": [],
   "source": [
    "history = model.fit(X_train, y_train, epochs=epochs, validation_data=(X_test, y_test))"
   ]
  },
  {
   "cell_type": "code",
   "execution_count": null,
   "id": "6bd25d0a-b77e-4d18-83dd-dd609baba072",
   "metadata": {},
   "outputs": [],
   "source": [
    "train_accuracy = history.history['accuracy']\n",
    "test_accuracy = history.history['val_accuracy']"
   ]
  },
  {
   "cell_type": "code",
   "execution_count": null,
   "id": "547a16b7-c186-4714-983c-e03ad8e5acdd",
   "metadata": {},
   "outputs": [],
   "source": [
    "plt.plot(range(1, len(train_accuracy) + 1), train_accuracy, label='Acurácia de Treino')\n",
    "plt.plot(range(1, len(test_accuracy) + 1), test_accuracy, label='Acurácia de Teste')\n",
    "plt.xlabel('Épocas')\n",
    "plt.ylabel('Acurácia')\n",
    "plt.title('Acurácia ao longo das Épocas')\n",
    "plt.legend()\n",
    "plt.show()"
   ]
  },
  {
   "cell_type": "code",
   "execution_count": null,
   "id": "43a36337-2a10-413c-860f-3b34e95afbef",
   "metadata": {},
   "outputs": [],
   "source": [
    "exemplo_test = X_test\n",
    "\n",
    "predict = model.predict(exemplo_test)\n",
    "\n",
    "print(f\"Valor real: {X_test[0]}\\n\\n Valor previsto: {y_test}\")"
   ]
  },
  {
   "cell_type": "code",
   "execution_count": null,
   "id": "02b1ae7d-a256-4cef-9429-49ea6940c5dd",
   "metadata": {},
   "outputs": [],
   "source": []
  }
 ],
 "metadata": {
  "kernelspec": {
   "display_name": "Python 3 (ipykernel)",
   "language": "python",
   "name": "python3"
  },
  "language_info": {
   "codemirror_mode": {
    "name": "ipython",
    "version": 3
   },
   "file_extension": ".py",
   "mimetype": "text/x-python",
   "name": "python",
   "nbconvert_exporter": "python",
   "pygments_lexer": "ipython3",
   "version": "3.12.2"
  }
 },
 "nbformat": 4,
 "nbformat_minor": 5
}
